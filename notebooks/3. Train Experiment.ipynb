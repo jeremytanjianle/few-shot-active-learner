{
 "cells": [
  {
   "cell_type": "code",
   "execution_count": 1,
   "id": "b7655aea",
   "metadata": {},
   "outputs": [
    {
     "data": {
      "text/plain": [
       "['capabilities.jsonl',\n",
       " 'diamond.coref-sep.708.jsonl',\n",
       " 'seeds',\n",
       " 'single_entity.jsonl',\n",
       " 'v4.coref-separated.jsonl']"
      ]
     },
     "execution_count": 1,
     "metadata": {},
     "output_type": "execute_result"
    }
   ],
   "source": [
    "import os\n",
    "import json\n",
    "\n",
    "os.chdir('..')\n",
    "os.listdir('data/seeds')\n",
    "os.listdir('data')"
   ]
  },
  {
   "cell_type": "markdown",
   "id": "9603de6b",
   "metadata": {},
   "source": [
    "### Read data"
   ]
  },
  {
   "cell_type": "code",
   "execution_count": 2,
   "id": "2e0ee206",
   "metadata": {},
   "outputs": [
    {
     "data": {
      "text/plain": [
       "[[<src.data.Doc_Tokens at 0x25655d3f688>, [(13, 16)]],\n",
       " [<src.data.Doc_Tokens at 0x25657cdd888>, [(51, 51), (53, 53)]],\n",
       " [<src.data.Doc_Tokens at 0x25657ce2b48>, [(51, 52), (83, 83)]]]"
      ]
     },
     "execution_count": 2,
     "metadata": {},
     "output_type": "execute_result"
    }
   ],
   "source": [
    "# Reading from jsonlines file\n",
    "with open('data/capabilities.jsonl', 'rb') as f:\n",
    "    lines = f.readlines()\n",
    "lines = [json.loads(line.decode('utf-8')) for line in lines]\n",
    "line = lines[0]\n",
    "\n",
    "from src.data import Data_Handler\n",
    "handler = Data_Handler()\n",
    "all_data = []\n",
    "for line in lines:\n",
    "    all_data.append( handler.process_prodigy_annot(line) )\n",
    "all_data[:3]"
   ]
  },
  {
   "cell_type": "code",
   "execution_count": 3,
   "id": "63acf1b9",
   "metadata": {},
   "outputs": [
    {
     "data": {
      "text/plain": [
       "265"
      ]
     },
     "execution_count": 3,
     "metadata": {},
     "output_type": "execute_result"
    }
   ],
   "source": [
    "len(all_data)"
   ]
  },
  {
   "cell_type": "code",
   "execution_count": 4,
   "id": "f9376bc4",
   "metadata": {},
   "outputs": [],
   "source": [
    "seed = all_data[:10]\n",
    "# seed = [all_data[1]]\n",
    "train = all_data[10:200]\n",
    "test = all_data[200:]"
   ]
  },
  {
   "cell_type": "markdown",
   "id": "b8b02e48",
   "metadata": {},
   "source": [
    "### Load model\n",
    "```\n",
    "tensor([[[65, 64],\n",
    "         [68, 67]]])\n",
    "```"
   ]
  },
  {
   "cell_type": "code",
   "execution_count": 5,
   "id": "62a4e71d",
   "metadata": {},
   "outputs": [],
   "source": [
    "from src.dygie_ent import Dygie_Ent\n",
    "model = Dygie_Ent()\n",
    "model.references['capabilities'] = seed\n",
    "model.get_prototypes();"
   ]
  },
  {
   "cell_type": "markdown",
   "id": "5a07842e",
   "metadata": {},
   "source": [
    "### Train model"
   ]
  },
  {
   "cell_type": "code",
   "execution_count": null,
   "id": "fba98a57",
   "metadata": {},
   "outputs": [
    {
     "name": "stderr",
     "output_type": "stream",
     "text": [
      "100%|████████████████████████████████████████████████████████████████████████████████| 190/190 [33:50<00:00, 10.69s/it]\n",
      "  0%|                                                                                          | 0/190 [00:00<?, ?it/s]"
     ]
    },
    {
     "name": "stdout",
     "output_type": "stream",
     "text": [
      "Epoch 0: ([0.0012083439328415162], [0.18811881188118812], [0.0024012638230647707])\n"
     ]
    },
    {
     "name": "stderr",
     "output_type": "stream",
     "text": [
      "100%|████████████████████████████████████████████████████████████████████████████████| 190/190 [37:09<00:00, 11.73s/it]\n",
      "  0%|                                                                                          | 0/190 [00:00<?, ?it/s]"
     ]
    },
    {
     "name": "stdout",
     "output_type": "stream",
     "text": [
      "Epoch 1: ([0.0016826518593303045], [0.09900990099009901], [0.0033090668431502313])\n"
     ]
    },
    {
     "name": "stderr",
     "output_type": "stream",
     "text": [
      "100%|████████████████████████████████████████████████████████████████████████████████| 190/190 [37:22<00:00, 11.80s/it]\n",
      "  0%|                                                                                          | 0/190 [00:00<?, ?it/s]"
     ]
    },
    {
     "name": "stdout",
     "output_type": "stream",
     "text": [
      "Epoch 2: ([0.00165809981760902], [0.09900990099009901], [0.0032615786040443577])\n"
     ]
    },
    {
     "name": "stderr",
     "output_type": "stream",
     "text": [
      "100%|████████████████████████████████████████████████████████████████████████████████| 190/190 [36:37<00:00, 11.57s/it]\n",
      "  0%|                                                                                          | 0/190 [00:00<?, ?it/s]"
     ]
    },
    {
     "name": "stdout",
     "output_type": "stream",
     "text": [
      "Epoch 3: ([0.0014992503748125937], [0.04950495049504951], [0.0029103608847497087])\n"
     ]
    },
    {
     "name": "stderr",
     "output_type": "stream",
     "text": [
      "100%|████████████████████████████████████████████████████████████████████████████████| 190/190 [37:37<00:00, 11.88s/it]\n",
      "  0%|                                                                                          | 0/190 [00:00<?, ?it/s]"
     ]
    },
    {
     "name": "stdout",
     "output_type": "stream",
     "text": [
      "Epoch 4: ([0.001504324934185784], [0.039603960396039604], [0.002898550724637681])\n"
     ]
    },
    {
     "name": "stderr",
     "output_type": "stream",
     "text": [
      "100%|████████████████████████████████████████████████████████████████████████████████| 190/190 [37:09<00:00, 11.73s/it]\n",
      "  0%|                                                                                          | 0/190 [00:00<?, ?it/s]"
     ]
    },
    {
     "name": "stdout",
     "output_type": "stream",
     "text": [
      "Epoch 5: ([0.0011296243998870376], [0.039603960396039604], [0.0021965952773201542])\n"
     ]
    },
    {
     "name": "stderr",
     "output_type": "stream",
     "text": [
      "100%|████████████████████████████████████████████████████████████████████████████████| 190/190 [36:59<00:00, 11.68s/it]\n",
      "  0%|                                                                                          | 0/190 [00:00<?, ?it/s]"
     ]
    },
    {
     "name": "stdout",
     "output_type": "stream",
     "text": [
      "Epoch 6: ([0.001216915120170368], [0.039603960396039604], [0.0023612750885478157])\n"
     ]
    },
    {
     "name": "stderr",
     "output_type": "stream",
     "text": [
      "100%|████████████████████████████████████████████████████████████████████████████████| 190/190 [37:05<00:00, 11.71s/it]\n",
      "  0%|                                                                                          | 0/190 [00:00<?, ?it/s]"
     ]
    },
    {
     "name": "stdout",
     "output_type": "stream",
     "text": [
      "Epoch 7: ([0.0], [0.0], [0.0])\n"
     ]
    },
    {
     "name": "stderr",
     "output_type": "stream",
     "text": [
      "100%|████████████████████████████████████████████████████████████████████████████████| 190/190 [36:59<00:00, 11.68s/it]\n",
      "  0%|                                                                                          | 0/190 [00:00<?, ?it/s]"
     ]
    },
    {
     "name": "stdout",
     "output_type": "stream",
     "text": [
      "Epoch 8: ([0.0011890606420927466], [0.039603960396039604], [0.002308802308802309])\n"
     ]
    },
    {
     "name": "stderr",
     "output_type": "stream",
     "text": [
      "100%|████████████████████████████████████████████████████████████████████████████████| 190/190 [28:40<00:00,  9.06s/it]\n",
      "  0%|                                                                                          | 0/190 [00:00<?, ?it/s]"
     ]
    },
    {
     "name": "stdout",
     "output_type": "stream",
     "text": [
      "Epoch 9: ([0.0003943217665615142], [0.009900990099009901], [0.0007584376185058779])\n"
     ]
    },
    {
     "name": "stderr",
     "output_type": "stream",
     "text": [
      "100%|████████████████████████████████████████████████████████████████████████████████| 190/190 [26:42<00:00,  8.43s/it]\n",
      "  0%|                                                                                          | 0/190 [00:00<?, ?it/s]"
     ]
    },
    {
     "name": "stdout",
     "output_type": "stream",
     "text": [
      "Epoch 10: ([0.0015159171298635675], [0.0297029702970297], [0.0028846153846153848])\n"
     ]
    },
    {
     "name": "stderr",
     "output_type": "stream",
     "text": [
      "100%|████████████████████████████████████████████████████████████████████████████████| 190/190 [29:43<00:00,  9.39s/it]\n",
      "  0%|                                                                                          | 0/190 [00:00<?, ?it/s]"
     ]
    },
    {
     "name": "stdout",
     "output_type": "stream",
     "text": [
      "Epoch 11: ([0.0017135023989033585], [0.04950495049504951], [0.0033123550844650546])\n"
     ]
    },
    {
     "name": "stderr",
     "output_type": "stream",
     "text": [
      "100%|████████████████████████████████████████████████████████████████████████████████| 190/190 [38:19<00:00, 12.10s/it]\n",
      "  0%|                                                                                          | 0/190 [00:00<?, ?it/s]"
     ]
    },
    {
     "name": "stdout",
     "output_type": "stream",
     "text": [
      "Epoch 12: ([0.0010672358591248667], [0.0297029702970297], [0.0020604395604395605])\n"
     ]
    },
    {
     "name": "stderr",
     "output_type": "stream",
     "text": [
      " 50%|████████████████████████████████████████▌                                        | 95/190 [18:44<19:11, 12.12s/it]"
     ]
    }
   ],
   "source": [
    "from tqdm import tqdm \n",
    "\n",
    "for epoch in range(50):\n",
    "    for doc, ent_spans in tqdm(train):\n",
    "        model.update(doc, ent_spans)\n",
    "        \n",
    "    prec, recall, f1 = model.evaluate(test)\n",
    "    print(f\"Epoch {epoch}: {prec, recall, f1}\")"
   ]
  },
  {
   "cell_type": "code",
   "execution_count": null,
   "id": "ff93a2ed",
   "metadata": {},
   "outputs": [],
   "source": [
    "raise"
   ]
  },
  {
   "cell_type": "markdown",
   "id": "2c2388a8",
   "metadata": {},
   "source": [
    "### "
   ]
  },
  {
   "cell_type": "code",
   "execution_count": null,
   "id": "ec40f8df",
   "metadata": {},
   "outputs": [],
   "source": []
  },
  {
   "cell_type": "code",
   "execution_count": null,
   "id": "a4e19c21",
   "metadata": {},
   "outputs": [],
   "source": []
  },
  {
   "cell_type": "code",
   "execution_count": null,
   "id": "c66226e1",
   "metadata": {},
   "outputs": [],
   "source": []
  },
  {
   "cell_type": "code",
   "execution_count": null,
   "id": "b46509a8",
   "metadata": {},
   "outputs": [],
   "source": []
  },
  {
   "cell_type": "code",
   "execution_count": null,
   "id": "c5de34cf",
   "metadata": {},
   "outputs": [],
   "source": []
  },
  {
   "cell_type": "code",
   "execution_count": null,
   "id": "8d04530d",
   "metadata": {},
   "outputs": [],
   "source": []
  },
  {
   "cell_type": "code",
   "execution_count": null,
   "id": "06ae4016",
   "metadata": {},
   "outputs": [],
   "source": []
  },
  {
   "cell_type": "code",
   "execution_count": null,
   "id": "b197b95c",
   "metadata": {},
   "outputs": [],
   "source": []
  },
  {
   "cell_type": "code",
   "execution_count": null,
   "id": "e5e9bc7a",
   "metadata": {},
   "outputs": [],
   "source": []
  }
 ],
 "metadata": {
  "kernelspec": {
   "display_name": "Python 3",
   "language": "python",
   "name": "python3"
  },
  "language_info": {
   "codemirror_mode": {
    "name": "ipython",
    "version": 3
   },
   "file_extension": ".py",
   "mimetype": "text/x-python",
   "name": "python",
   "nbconvert_exporter": "python",
   "pygments_lexer": "ipython3",
   "version": "3.7.4"
  }
 },
 "nbformat": 4,
 "nbformat_minor": 5
}
