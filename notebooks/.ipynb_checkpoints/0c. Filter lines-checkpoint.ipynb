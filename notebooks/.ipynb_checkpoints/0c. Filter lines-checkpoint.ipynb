{
 "cells": [
  {
   "cell_type": "code",
   "execution_count": 2,
   "id": "162ed959",
   "metadata": {},
   "outputs": [
    {
     "data": {
      "text/plain": [
       "['seeds', 'single_entity.jsonl', 'v4.coref-separated.jsonl']"
      ]
     },
     "execution_count": 2,
     "metadata": {},
     "output_type": "execute_result"
    }
   ],
   "source": [
    "import os\n",
    "os.chdir('..')\n",
    "os.listdir('data')"
   ]
  },
  {
   "cell_type": "markdown",
   "id": "48d3b691",
   "metadata": {},
   "source": [
    "### Pull out capabilities"
   ]
  },
  {
   "cell_type": "code",
   "execution_count": 8,
   "id": "6fa831b3",
   "metadata": {},
   "outputs": [],
   "source": [
    "import json\n",
    "\n",
    "# Reading from jsonlines file\n",
    "with open('data/diamond.coref-sep.708.jsonl', 'rb') as f:\n",
    "    lines = f.readlines()\n",
    "lines = [json.loads(line.decode('utf-8')) for line in lines]"
   ]
  },
  {
   "cell_type": "markdown",
   "id": "bf9cafea",
   "metadata": {},
   "source": [
    "Filter out lines with specific label"
   ]
  },
  {
   "cell_type": "code",
   "execution_count": 22,
   "id": "b937a588",
   "metadata": {},
   "outputs": [
    {
     "data": {
      "text/plain": [
       "265"
      ]
     },
     "execution_count": 22,
     "metadata": {},
     "output_type": "execute_result"
    }
   ],
   "source": [
    "label = 'VICTIM' # 'CAPABILITY', \"ADVERSARY\", \"INFRASTRUCTURE\"\n",
    "filtered_lines = [line for line in lines if label in line['accept']]\n",
    "len(filtered_lines)"
   ]
  },
  {
   "cell_type": "markdown",
   "id": "cbe25220",
   "metadata": {},
   "source": [
    "Change the label spans"
   ]
  },
  {
   "cell_type": "code",
   "execution_count": 30,
   "id": "80ba86be",
   "metadata": {},
   "outputs": [],
   "source": [
    "for line in filtered_lines:\n",
    "    for span in line['spans']:\n",
    "        span['label'] = label"
   ]
  },
  {
   "cell_type": "markdown",
   "id": "20352c14",
   "metadata": {},
   "source": [
    "Save the spans"
   ]
  },
  {
   "cell_type": "code",
   "execution_count": 32,
   "id": "b1ca3289",
   "metadata": {},
   "outputs": [],
   "source": [
    "# writing to jsonlines file\n",
    "with open('capabilities.jsonl', 'a', encoding='utf-8') as f:\n",
    "    for line in filtered_lines:\n",
    "        f.write(json.dumps(line, ensure_ascii=False) + '\\n')"
   ]
  },
  {
   "cell_type": "code",
   "execution_count": null,
   "id": "824b7c02",
   "metadata": {},
   "outputs": [],
   "source": []
  }
 ],
 "metadata": {
  "kernelspec": {
   "display_name": "Python 3",
   "language": "python",
   "name": "python3"
  },
  "language_info": {
   "codemirror_mode": {
    "name": "ipython",
    "version": 3
   },
   "file_extension": ".py",
   "mimetype": "text/x-python",
   "name": "python",
   "nbconvert_exporter": "python",
   "pygments_lexer": "ipython3",
   "version": "3.7.4"
  }
 },
 "nbformat": 4,
 "nbformat_minor": 5
}
