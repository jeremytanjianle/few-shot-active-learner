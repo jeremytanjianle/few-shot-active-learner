{
 "cells": [
  {
   "cell_type": "markdown",
   "metadata": {},
   "source": [
    "### Load Transformer and spacy"
   ]
  },
  {
   "cell_type": "code",
   "execution_count": 2,
   "metadata": {},
   "outputs": [],
   "source": [
    "from transformers import AutoTokenizer, AutoModel\n",
    "\n",
    "tokenizer = AutoTokenizer.from_pretrained('albert-base-v2', use_fast=False)\n",
    "model = AutoModel.from_pretrained('albert-base-v2')"
   ]
  },
  {
   "cell_type": "code",
   "execution_count": 21,
   "metadata": {},
   "outputs": [],
   "source": [
    "import spacy \n",
    "nlp = spacy.load('en_core_web_sm')\n",
    "\n",
    "text = \"The APT10 group (also known as Temp.Mana) is responsible and is linked to the North Korean nexus, and is charged with discharging the CryptoMix virus, retrieving money, phone numbers, details and credentials\"\n",
    "\n",
    "doc = nlp(text)\n",
    "doc_tokens = [_.text for _ in doc]"
   ]
  },
  {
   "cell_type": "markdown",
   "metadata": {},
   "source": [
    "### Process the text"
   ]
  },
  {
   "cell_type": "code",
   "execution_count": 12,
   "metadata": {},
   "outputs": [],
   "source": [
    "from allennlp.data.dataset_readers.dataset_utils.span_utils import enumerate_spans\n",
    "span_width_tuples = enumerate_spans(doc, max_span_width=5)"
   ]
  },
  {
   "cell_type": "code",
   "execution_count": 138,
   "metadata": {},
   "outputs": [
    {
     "data": {
      "text/plain": [
       "[(0, ['▁the']),\n",
       " (1, ['▁a', 'pt', '10']),\n",
       " (4, ['▁group']),\n",
       " (5, ['▁', '(']),\n",
       " (7, ['▁also']),\n",
       " (8, ['▁known']),\n",
       " (9, ['▁as']),\n",
       " (10, ['▁', 'temp']),\n",
       " (12, ['▁', '.']),\n",
       " (14, ['▁man', 'a']),\n",
       " (16, ['▁', ')'])]"
      ]
     },
     "metadata": {},
     "output_type": "display_data"
    }
   ],
   "source": [
    "fullword_tokens = [tokenizer.tokenize(text) for text in doc_tokens]\n",
    "subword_tokens = [__ for _ in fullword_tokens for __ in _]\n",
    "subword_idx, k = [], 0\n",
    "for subword in fullword_tokens:\n",
    "    k+=len(subword)\n",
    "    subword_idx.append(k)\n",
    "subword_idx = ([0] + subword_idx)[:-1]\n",
    "display( list(zip(subword_idx, fullword_tokens))[:11] )"
   ]
  },
  {
   "cell_type": "markdown",
   "metadata": {},
   "source": [
    "### Encode specific span"
   ]
  },
  {
   "cell_type": "code",
   "execution_count": 103,
   "metadata": {},
   "outputs": [],
   "source": [
    "span_width_tuple = (1,2)\n",
    "span_start, span_end = span_width_tuple\n",
    "span_start, span_end = subword_idx[span_start], subword_idx[span_end]+1"
   ]
  },
  {
   "cell_type": "code",
   "execution_count": 109,
   "metadata": {},
   "outputs": [],
   "source": [
    "piece_id = tokenizer.encode(subword_tokens, return_tensors='pt')\n",
    "encodings = model(piece_id)['last_hidden_state']\n",
    "span_encoding = encodings[0, span_start+1: span_end+1, :]"
   ]
  },
  {
   "cell_type": "markdown",
   "metadata": {},
   "source": [
    "### Sparta class"
   ]
  },
  {
   "attachments": {
    "image.png": {
     "image/png": "[encoded data removed]"
    }
   },
   "cell_type": "markdown",
   "metadata": {},
   "source": [
    "![image.png](attachment:image.png)"
   ]
  },
  {
   "cell_type": "code",
   "execution_count": 306,
   "metadata": {},
   "outputs": [],
   "source": [
    "from allennlp.data.dataset_readers.dataset_utils.span_utils import enumerate_spans"
   ]
  },
  {
   "cell_type": "code",
   "execution_count": 6,
   "metadata": {},
   "outputs": [],
   "source": [
    "import spacy \n",
    "from torch import nn\n",
    "import torch.nn.functional as F\n",
    "import torch\n",
    "from transformers import AutoTokenizer, AutoModel\n",
    "from allennlp.data.dataset_readers.dataset_utils.span_utils import enumerate_spans\n",
    "\n",
    "class Doc_Tokens:\n",
    "    def __init__(self, doc, fullword_tokens, subword_tokens, subword_idx):\n",
    "        self.doc = doc\n",
    "        self.fullword_tokens = fullword_tokens\n",
    "        self.subword_tokens = subword_tokens\n",
    "        self.subword_idx = subword_idx\n",
    "        \n",
    "def sim_matrix(a, b, eps=1e-8):\n",
    "    \"\"\"\n",
    "    added eps for numerical stability\n",
    "    https://stackoverflow.com/questions/50411191/how-to-compute-the-cosine-similarity-in-pytorch-for-all-rows-in-a-matrix-with-re\n",
    "    \"\"\"\n",
    "    a_n, b_n = a.norm(dim=1)[:, None], b.norm(dim=1)[:, None]\n",
    "    a_norm = a / torch.max(a_n, eps * torch.ones_like(a_n))\n",
    "    b_norm = b / torch.max(b_n, eps * torch.ones_like(b_n))\n",
    "    sim_mt = torch.mm(a_norm, b_norm.transpose(0, 1))\n",
    "    return sim_mt\n",
    "        \n",
    "class Sparta_Ent:\n",
    "    \n",
    "    def __init__(self, bert_name = 'albert-base-v2', spacy_name = 'en_core_web_sm'):\n",
    "        self.tokenizer = AutoTokenizer.from_pretrained(bert_name, use_fast=False)\n",
    "        self.model = AutoModel.from_pretrained(bert_name)\n",
    "        self.nlp = spacy.load(spacy_name)\n",
    "        self.threshold_bias = nn.Parameter(torch.zeros(1))\n",
    "        self.act = nn.ReLU()\n",
    "        \n",
    "    def process_sentence(self, text):\n",
    "        \"\"\"\n",
    "        :param text: text sentence\n",
    "        :return Doc_Tokens: Doc_Tokens objects for encoding\n",
    "        \"\"\"\n",
    "        # spacy tokenize\n",
    "        doc = self.nlp(text)\n",
    "        doc_tokens = [_.text for _ in doc]\n",
    "        \n",
    "        # transformers tokenize\n",
    "        fullword_tokens = [tokenizer.tokenize(text) for text in doc_tokens]\n",
    "        subword_tokens = [__ for _ in fullword_tokens for __ in _]\n",
    "        subword_idx, k = [], 0\n",
    "        for subword in fullword_tokens:\n",
    "            k+=len(subword)\n",
    "            subword_idx.append(k)\n",
    "        subword_idx = ([0] + subword_idx)[:-1]\n",
    "        \n",
    "        return Doc_Tokens(doc, fullword_tokens, subword_tokens, subword_idx)\n",
    "    \n",
    "    def encode_span(self, doc_tokens: Doc_Tokens, span_width_tuple: tuple):\n",
    "        \"\"\"\n",
    "        :param doc_tokens: Doc_Tokens object that contains the spans\n",
    "        :param span_width_tuple: tuple indicating start and end of spacy token spans\n",
    "        :return span_encoding: (span length x embed dimensions) torch array\n",
    "        \"\"\"\n",
    "        # get span \n",
    "        span_start, span_end = span_width_tuple\n",
    "        span_start, span_end = doc_tokens.subword_idx[span_start], doc_tokens.subword_idx[span_end+1]\n",
    "\n",
    "        # encode the pieces and slice according to span\n",
    "        # span starts and end +1 to account for inserted CLS token\n",
    "        piece_id = self.tokenizer.encode(doc_tokens.subword_tokens, return_tensors='pt')\n",
    "        encodings = model(piece_id)['last_hidden_state']\n",
    "        span_encoding = encodings[0, span_start+1: span_end+1, :]\n",
    "        \n",
    "        return span_encoding\n",
    "    \n",
    "    \n",
    "    def encode_spans(self, doc_tokens: Doc_Tokens, span_width_tuples: list):\n",
    "        \"\"\"\n",
    "        :param doc_tokens: Doc_Tokens object that contains the spans\n",
    "        :param span_width_tuples: list of tuple indicating start and end of spacy token spans\n",
    "        :return span_encoding: (span length x embed dimensions) torch array\n",
    "        \"\"\"\n",
    "        # encode the pieces and slice according to span\n",
    "        # span starts and end +1 to account for inserted CLS token\n",
    "        piece_id = self.tokenizer.encode(doc_tokens.subword_tokens, return_tensors='pt')\n",
    "        encodings = model(piece_id)['last_hidden_state']\n",
    "        \n",
    "        # get spans\n",
    "        span_encodings = []\n",
    "        for span_width_tuple in span_width_tuples:\n",
    "            span_start, span_end = span_width_tuple\n",
    "            span_start, span_end = doc_tokens.subword_idx[span_start], doc_tokens.subword_idx[span_end+1]\n",
    "            span_encoding = encodings[0, span_start+1: span_end+1, :]\n",
    "            span_encodings.append(span_encoding)\n",
    "        \n",
    "        return span_encodings\n",
    "    \n",
    "    def encoding_sim_score(self, query_encoding: torch.Tensor, reference_encoding: torch.Tensor):\n",
    "        sim = sim_matrix(query_encoding, reference_encoding)\n",
    "        max_vals, max_ind = torch.max( sim, axis=1 )\n",
    "        max_vals += self.threshold_bias    \n",
    "        score = torch.sum( torch.log( self.act(max_vals) + 1 ) )\n",
    "        return score"
   ]
  },
  {
   "cell_type": "code",
   "execution_count": null,
   "metadata": {},
   "outputs": [],
   "source": []
  },
  {
   "cell_type": "code",
   "execution_count": 3,
   "metadata": {},
   "outputs": [
    {
     "data": {
      "text/plain": [
       "tuple"
      ]
     },
     "execution_count": 3,
     "metadata": {},
     "output_type": "execute_result"
    }
   ],
   "source": [
    "tuple"
   ]
  },
  {
   "cell_type": "code",
   "execution_count": 3,
   "metadata": {},
   "outputs": [
    {
     "name": "stdout",
     "output_type": "stream",
     "text": [
      "Collecting allennlp\n",
      "  Using cached allennlp-2.4.0-py3-none-any.whl (625 kB)\n",
      "Requirement already satisfied: spacy<3.1,>=2.1.0 in c:\\users\\limpe\\anaconda3\\envs\\sparta-ent\\lib\\site-packages (from allennlp) (3.0.6)\n",
      "Requirement already satisfied: tqdm>=4.19 in c:\\users\\limpe\\anaconda3\\envs\\sparta-ent\\lib\\site-packages (from allennlp) (4.60.0)\n",
      "Requirement already satisfied: transformers<4.6,>=4.1 in c:\\users\\limpe\\anaconda3\\envs\\sparta-ent\\lib\\site-packages (from allennlp) (4.5.1)\n",
      "Collecting scipy\n",
      "  Using cached scipy-1.6.3-cp37-cp37m-win_amd64.whl (32.6 MB)\n",
      "Requirement already satisfied: torch<1.9.0,>=1.6.0 in c:\\users\\limpe\\anaconda3\\envs\\sparta-ent\\lib\\site-packages (from allennlp) (1.8.1+cu102)\n",
      "Requirement already satisfied: requests>=2.18 in c:\\users\\limpe\\anaconda3\\envs\\sparta-ent\\lib\\site-packages (from allennlp) (2.25.1)\n",
      "Collecting sentencepiece\n",
      "  Using cached sentencepiece-0.1.95-cp37-cp37m-win_amd64.whl (1.2 MB)\n",
      "Requirement already satisfied: numpy in c:\\users\\limpe\\anaconda3\\envs\\sparta-ent\\lib\\site-packages (from allennlp) (1.20.3)\n",
      "Collecting scikit-learn\n",
      "  Using cached scikit_learn-0.24.2-cp37-cp37m-win_amd64.whl (6.8 MB)\n",
      "Collecting lmdb\n",
      "  Using cached lmdb-1.2.1-cp37-cp37m-win_amd64.whl (105 kB)\n",
      "Collecting h5py\n",
      "  Using cached h5py-3.2.1-cp37-cp37m-win_amd64.whl (2.7 MB)\n",
      "Collecting huggingface-hub>=0.0.8\n",
      "  Using cached huggingface_hub-0.0.8-py3-none-any.whl (34 kB)\n",
      "Collecting more-itertools\n",
      "  Using cached more_itertools-8.7.0-py3-none-any.whl (48 kB)\n",
      "Requirement already satisfied: torchvision<0.10.0,>=0.8.1 in c:\\users\\limpe\\anaconda3\\envs\\sparta-ent\\lib\\site-packages (from allennlp) (0.9.1+cu102)\n",
      "Collecting tensorboardX>=1.2\n",
      "  Using cached tensorboardX-2.2-py2.py3-none-any.whl (120 kB)\n",
      "Collecting wandb<0.11.0,>=0.10.0\n",
      "  Using cached wandb-0.10.30-py2.py3-none-any.whl (1.8 MB)\n",
      "Collecting pytest\n",
      "  Using cached pytest-6.2.4-py3-none-any.whl (280 kB)\n",
      "Requirement already satisfied: filelock<3.1,>=3.0 in c:\\users\\limpe\\anaconda3\\envs\\sparta-ent\\lib\\site-packages (from allennlp) (3.0.12)\n",
      "Collecting boto3<2.0,>=1.14\n",
      "  Using cached boto3-1.17.72-py2.py3-none-any.whl (131 kB)\n",
      "Collecting nltk\n",
      "  Using cached nltk-3.6.2-py3-none-any.whl (1.5 MB)\n",
      "Collecting overrides==3.1.0\n",
      "  Using cached overrides-3.1.0-py3-none-any.whl\n",
      "Requirement already satisfied: jmespath<1.0.0,>=0.7.1 in c:\\users\\limpe\\anaconda3\\envs\\sparta-ent\\lib\\site-packages (from boto3<2.0,>=1.14->allennlp) (0.10.0)\n",
      "Collecting botocore<1.21.0,>=1.20.72\n",
      "  Using cached botocore-1.20.72-py2.py3-none-any.whl (7.5 MB)\n",
      "Collecting s3transfer<0.5.0,>=0.4.0\n",
      "  Using cached s3transfer-0.4.2-py2.py3-none-any.whl (79 kB)\n",
      "Requirement already satisfied: python-dateutil<3.0.0,>=2.1 in c:\\users\\limpe\\anaconda3\\envs\\sparta-ent\\lib\\site-packages (from botocore<1.21.0,>=1.20.72->boto3<2.0,>=1.14->allennlp) (2.8.1)\n",
      "Requirement already satisfied: urllib3<1.27,>=1.25.4 in c:\\users\\limpe\\anaconda3\\envs\\sparta-ent\\lib\\site-packages (from botocore<1.21.0,>=1.20.72->boto3<2.0,>=1.14->allennlp) (1.26.4)\n",
      "Requirement already satisfied: importlib-metadata in c:\\users\\limpe\\anaconda3\\envs\\sparta-ent\\lib\\site-packages (from huggingface-hub>=0.0.8->allennlp) (4.0.1)\n",
      "Requirement already satisfied: six>=1.5 in c:\\users\\limpe\\anaconda3\\envs\\sparta-ent\\lib\\site-packages (from python-dateutil<3.0.0,>=2.1->botocore<1.21.0,>=1.20.72->boto3<2.0,>=1.14->allennlp) (1.16.0)\n",
      "Requirement already satisfied: chardet<5,>=3.0.2 in c:\\users\\limpe\\anaconda3\\envs\\sparta-ent\\lib\\site-packages (from requests>=2.18->allennlp) (4.0.0)\n",
      "Requirement already satisfied: certifi>=2017.4.17 in c:\\users\\limpe\\anaconda3\\envs\\sparta-ent\\lib\\site-packages (from requests>=2.18->allennlp) (2020.12.5)\n",
      "Requirement already satisfied: idna<3,>=2.5 in c:\\users\\limpe\\anaconda3\\envs\\sparta-ent\\lib\\site-packages (from requests>=2.18->allennlp) (2.10)\n",
      "Requirement already satisfied: thinc<8.1.0,>=8.0.3 in c:\\users\\limpe\\anaconda3\\envs\\sparta-ent\\lib\\site-packages (from spacy<3.1,>=2.1.0->allennlp) (8.0.3)\n",
      "Requirement already satisfied: pathy>=0.3.5 in c:\\users\\limpe\\anaconda3\\envs\\sparta-ent\\lib\\site-packages (from spacy<3.1,>=2.1.0->allennlp) (0.5.2)\n",
      "Requirement already satisfied: setuptools in c:\\users\\limpe\\anaconda3\\envs\\sparta-ent\\lib\\site-packages (from spacy<3.1,>=2.1.0->allennlp) (52.0.0.post20210125)\n",
      "Requirement already satisfied: typer<0.4.0,>=0.3.0 in c:\\users\\limpe\\anaconda3\\envs\\sparta-ent\\lib\\site-packages (from spacy<3.1,>=2.1.0->allennlp) (0.3.2)\n",
      "Requirement already satisfied: murmurhash<1.1.0,>=0.28.0 in c:\\users\\limpe\\anaconda3\\envs\\sparta-ent\\lib\\site-packages (from spacy<3.1,>=2.1.0->allennlp) (1.0.5)\n",
      "Requirement already satisfied: srsly<3.0.0,>=2.4.1 in c:\\users\\limpe\\anaconda3\\envs\\sparta-ent\\lib\\site-packages (from spacy<3.1,>=2.1.0->allennlp) (2.4.1)\n",
      "Requirement already satisfied: pydantic<1.8.0,>=1.7.1 in c:\\users\\limpe\\anaconda3\\envs\\sparta-ent\\lib\\site-packages (from spacy<3.1,>=2.1.0->allennlp) (1.7.4)\n",
      "Requirement already satisfied: catalogue<2.1.0,>=2.0.3 in c:\\users\\limpe\\anaconda3\\envs\\sparta-ent\\lib\\site-packages (from spacy<3.1,>=2.1.0->allennlp) (2.0.4)\n",
      "Requirement already satisfied: cymem<2.1.0,>=2.0.2 in c:\\users\\limpe\\anaconda3\\envs\\sparta-ent\\lib\\site-packages (from spacy<3.1,>=2.1.0->allennlp) (2.0.5)\n",
      "Requirement already satisfied: packaging>=20.0 in c:\\users\\limpe\\anaconda3\\envs\\sparta-ent\\lib\\site-packages (from spacy<3.1,>=2.1.0->allennlp) (20.9)\n",
      "Requirement already satisfied: typing-extensions<4.0.0.0,>=3.7.4 in c:\\users\\limpe\\anaconda3\\envs\\sparta-ent\\lib\\site-packages (from spacy<3.1,>=2.1.0->allennlp) (3.10.0.0)\n",
      "Requirement already satisfied: preshed<3.1.0,>=3.0.2 in c:\\users\\limpe\\anaconda3\\envs\\sparta-ent\\lib\\site-packages (from spacy<3.1,>=2.1.0->allennlp) (3.0.5)\n",
      "Requirement already satisfied: wasabi<1.1.0,>=0.8.1 in c:\\users\\limpe\\anaconda3\\envs\\sparta-ent\\lib\\site-packages (from spacy<3.1,>=2.1.0->allennlp) (0.8.2)\n",
      "Requirement already satisfied: blis<0.8.0,>=0.4.0 in c:\\users\\limpe\\anaconda3\\envs\\sparta-ent\\lib\\site-packages (from spacy<3.1,>=2.1.0->allennlp) (0.7.4)\n",
      "Requirement already satisfied: jinja2 in c:\\users\\limpe\\anaconda3\\envs\\sparta-ent\\lib\\site-packages (from spacy<3.1,>=2.1.0->allennlp) (3.0.0)\n",
      "Requirement already satisfied: spacy-legacy<3.1.0,>=3.0.4 in c:\\users\\limpe\\anaconda3\\envs\\sparta-ent\\lib\\site-packages (from spacy<3.1,>=2.1.0->allennlp) (3.0.5)\n",
      "Requirement already satisfied: zipp>=0.5 in c:\\users\\limpe\\anaconda3\\envs\\sparta-ent\\lib\\site-packages (from catalogue<2.1.0,>=2.0.3->spacy<3.1,>=2.1.0->allennlp) (3.4.1)\n",
      "Requirement already satisfied: pyparsing>=2.0.2 in c:\\users\\limpe\\anaconda3\\envs\\sparta-ent\\lib\\site-packages (from packaging>=20.0->spacy<3.1,>=2.1.0->allennlp) (2.4.7)\n",
      "Requirement already satisfied: smart-open<4.0.0,>=2.2.0 in c:\\users\\limpe\\anaconda3\\envs\\sparta-ent\\lib\\site-packages (from pathy>=0.3.5->spacy<3.1,>=2.1.0->allennlp) (3.0.0)\n",
      "Collecting protobuf>=3.8.0\n",
      "  Using cached protobuf-3.17.0-cp37-cp37m-win_amd64.whl (908 kB)\n",
      "Requirement already satisfied: pillow>=4.1.1 in c:\\users\\limpe\\anaconda3\\envs\\sparta-ent\\lib\\site-packages (from torchvision<0.10.0,>=0.8.1->allennlp) (8.2.0)\n",
      "Requirement already satisfied: sacremoses in c:\\users\\limpe\\anaconda3\\envs\\sparta-ent\\lib\\site-packages (from transformers<4.6,>=4.1->allennlp) (0.0.45)\n",
      "Requirement already satisfied: tokenizers<0.11,>=0.10.1 in c:\\users\\limpe\\anaconda3\\envs\\sparta-ent\\lib\\site-packages (from transformers<4.6,>=4.1->allennlp) (0.10.2)\n",
      "Requirement already satisfied: regex!=2019.12.17 in c:\\users\\limpe\\anaconda3\\envs\\sparta-ent\\lib\\site-packages (from transformers<4.6,>=4.1->allennlp) (2021.4.4)\n",
      "Requirement already satisfied: click<7.2.0,>=7.1.1 in c:\\users\\limpe\\anaconda3\\envs\\sparta-ent\\lib\\site-packages (from typer<0.4.0,>=0.3.0->spacy<3.1,>=2.1.0->allennlp) (7.1.2)\n",
      "Collecting pathtools\n",
      "  Using cached pathtools-0.1.2-py3-none-any.whl\n",
      "Collecting docker-pycreds>=0.4.0\n",
      "  Using cached docker_pycreds-0.4.0-py2.py3-none-any.whl (9.0 kB)\n",
      "Collecting shortuuid>=0.5.0\n",
      "  Using cached shortuuid-1.0.1-py3-none-any.whl (7.5 kB)\n",
      "Collecting subprocess32>=3.5.3\n",
      "  Using cached subprocess32-3.5.4-py3-none-any.whl\n",
      "Collecting PyYAML\n",
      "  Using cached PyYAML-5.4.1-cp37-cp37m-win_amd64.whl (210 kB)\n",
      "Collecting sentry-sdk>=0.4.0\n",
      "  Using cached sentry_sdk-1.1.0-py2.py3-none-any.whl (131 kB)\n",
      "Collecting psutil>=5.0.0\n",
      "  Using cached psutil-5.8.0-cp37-cp37m-win_amd64.whl (244 kB)\n",
      "Collecting GitPython>=1.0.0\n",
      "  Using cached GitPython-3.1.17-py3-none-any.whl (166 kB)\n",
      "Collecting promise<3,>=2.0\n",
      "  Using cached promise-2.3-py3-none-any.whl\n",
      "Collecting configparser>=3.8.1\n",
      "  Using cached configparser-5.0.2-py3-none-any.whl (19 kB)\n",
      "Collecting gitdb<5,>=4.0.1\n",
      "  Using cached gitdb-4.0.7-py3-none-any.whl (63 kB)\n",
      "Requirement already satisfied: smmap<5,>=3.0.1 in c:\\users\\limpe\\anaconda3\\envs\\sparta-ent\\lib\\site-packages (from gitdb<5,>=4.0.1->GitPython>=1.0.0->wandb<0.11.0,>=0.10.0->allennlp) (4.0.0)\n",
      "Collecting cached-property\n",
      "  Using cached cached_property-1.5.2-py2.py3-none-any.whl (7.6 kB)\n",
      "Requirement already satisfied: MarkupSafe>=2.0.0rc2 in c:\\users\\limpe\\anaconda3\\envs\\sparta-ent\\lib\\site-packages (from jinja2->spacy<3.1,>=2.1.0->allennlp) (2.0.0)\n",
      "Requirement already satisfied: joblib in c:\\users\\limpe\\anaconda3\\envs\\sparta-ent\\lib\\site-packages (from nltk->allennlp) (1.0.1)\n",
      "Collecting py>=1.8.2\n",
      "  Using cached py-1.10.0-py2.py3-none-any.whl (97 kB)\n",
      "Requirement already satisfied: colorama in c:\\users\\limpe\\anaconda3\\envs\\sparta-ent\\lib\\site-packages (from pytest->allennlp) (0.4.4)\n",
      "Collecting pluggy<1.0.0a1,>=0.12\n",
      "  Using cached pluggy-0.13.1-py2.py3-none-any.whl (18 kB)\n",
      "Requirement already satisfied: attrs>=19.2.0 in c:\\users\\limpe\\anaconda3\\envs\\sparta-ent\\lib\\site-packages (from pytest->allennlp) (21.2.0)\n",
      "Collecting iniconfig\n",
      "  Using cached iniconfig-1.1.1-py2.py3-none-any.whl (5.0 kB)\n",
      "Collecting toml\n",
      "  Using cached toml-0.10.2-py2.py3-none-any.whl (16 kB)\n",
      "Collecting atomicwrites>=1.0\n",
      "  Using cached atomicwrites-1.4.0-py2.py3-none-any.whl (6.8 kB)\n",
      "Collecting threadpoolctl>=2.0.0\n",
      "  Using cached threadpoolctl-2.1.0-py3-none-any.whl (12 kB)\n",
      "Installing collected packages: gitdb, botocore, toml, threadpoolctl, subprocess32, shortuuid, sentry-sdk, scipy, s3transfer, PyYAML, py, psutil, protobuf, promise, pluggy, pathtools, iniconfig, GitPython, docker-pycreds, configparser, cached-property, atomicwrites, wandb, tensorboardX, sentencepiece, scikit-learn, pytest, overrides, nltk, more-itertools, lmdb, huggingface-hub, h5py, boto3, allennlp\n",
      "Successfully installed GitPython-3.1.17 PyYAML-5.4.1 allennlp-2.4.0 atomicwrites-1.4.0 boto3-1.17.72 botocore-1.20.72 cached-property-1.5.2 configparser-5.0.2 docker-pycreds-0.4.0 gitdb-4.0.7 h5py-3.2.1 huggingface-hub-0.0.8 iniconfig-1.1.1 lmdb-1.2.1 more-itertools-8.7.0 nltk-3.6.2 overrides-3.1.0 pathtools-0.1.2 pluggy-0.13.1 promise-2.3 protobuf-3.17.0 psutil-5.8.0 py-1.10.0 pytest-6.2.4 s3transfer-0.4.2 scikit-learn-0.24.2 scipy-1.6.3 sentencepiece-0.1.95 sentry-sdk-1.1.0 shortuuid-1.0.1 subprocess32-3.5.4 tensorboardX-2.2 threadpoolctl-2.1.0 toml-0.10.2 wandb-0.10.30\n",
      "Note: you may need to restart the kernel to use updated packages.\n"
     ]
    }
   ],
   "source": [
    "pip install allennlp"
   ]
  },
  {
   "cell_type": "code",
   "execution_count": null,
   "metadata": {},
   "outputs": [],
   "source": [
    "pip install spacy==2.3.5"
   ]
  },
  {
   "cell_type": "code",
   "execution_count": 302,
   "metadata": {},
   "outputs": [
    {
     "data": {
      "text/plain": [
       "'The APT10 group (also known as Temp.Mana) is responsible and is linked to the North Korean nexus, and is charged with discharging the CryptoMix virus, retrieving money, phone numbers, details and credentials'"
      ]
     },
     "metadata": {},
     "output_type": "display_data"
    }
   ],
   "source": [
    "text = \"The APT10 group (also known as Temp.Mana) is responsible and is linked to the North Korean nexus, and is charged with discharging the CryptoMix virus, retrieving money, phone numbers, details and credentials\"\n",
    "display(text)\n",
    "\n",
    "sparta_ent = Sparta_Ent()\n",
    "doc = sparta_ent.process_sentence(text)"
   ]
  },
  {
   "cell_type": "code",
   "execution_count": 303,
   "metadata": {},
   "outputs": [
    {
     "data": {
      "text/plain": [
       "tensor([[ 0.9899, -0.3053,  0.7081,  ..., -0.5901,  3.1945,  0.0744],\n",
       "        [ 0.6409, -0.1234,  0.9752,  ..., -1.6425,  1.1848,  0.1874],\n",
       "        [-0.2175, -0.3960,  1.2751,  ..., -1.9441,  0.2071, -0.7991],\n",
       "        [-1.2339, -1.2780,  1.5548,  ...,  0.2599,  2.3435, -0.3532]],\n",
       "       grad_fn=<SliceBackward>)"
      ]
     },
     "execution_count": 303,
     "metadata": {},
     "output_type": "execute_result"
    }
   ],
   "source": [
    "ent1 = sparta_ent.encode_span(doc, (1,2))\n",
    "ent1"
   ]
  },
  {
   "cell_type": "code",
   "execution_count": 304,
   "metadata": {},
   "outputs": [
    {
     "data": {
      "text/plain": [
       "tensor([[ 1.0878,  0.3942, -0.4331,  ..., -0.3236,  2.5309,  0.1388],\n",
       "        [ 0.3049, -0.1178,  0.8762,  ..., -0.9927,  0.9251, -1.0933],\n",
       "        [ 0.2504, -1.3833,  1.3662,  ..., -0.5650,  1.6812,  0.1072],\n",
       "        [ 1.5854,  0.4066,  0.3833,  ..., -0.5505,  1.3191, -0.8333],\n",
       "        [-0.1886, -0.8965,  2.6719,  ..., -0.0414,  0.4988, -1.3243],\n",
       "        [ 0.4528, -1.0257,  1.8590,  ..., -0.1739,  1.5228, -1.5650]],\n",
       "       grad_fn=<SliceBackward>)"
      ]
     },
     "execution_count": 304,
     "metadata": {},
     "output_type": "execute_result"
    }
   ],
   "source": [
    "ent2 = sparta_ent.encode_span(doc, (7,9))\n",
    "# ent2 = sparta_ent.encode_span(doc, (3,5))\n",
    "ent2"
   ]
  },
  {
   "cell_type": "code",
   "execution_count": 305,
   "metadata": {},
   "outputs": [
    {
     "data": {
      "text/plain": [
       "tensor(1.7900, grad_fn=<SumBackward0>)"
      ]
     },
     "execution_count": 305,
     "metadata": {},
     "output_type": "execute_result"
    }
   ],
   "source": [
    "sparta_ent.encoding_sim_score(ent1, ent2)"
   ]
  },
  {
   "cell_type": "code",
   "execution_count": 203,
   "metadata": {},
   "outputs": [
    {
     "name": "stdout",
     "output_type": "stream",
     "text": [
      "\n",
      "temp\n",
      "\n",
      ".\n",
      "man\n",
      "a\n"
     ]
    }
   ],
   "source": [
    "for _ in range(11,17):\n",
    "    print( tokenizer.decode(int(piece_id[0,_])) )"
   ]
  },
  {
   "cell_type": "markdown",
   "metadata": {},
   "source": [
    "### Processing"
   ]
  },
  {
   "attachments": {
    "image.png": {
     "image/png": "[encoded data removed]"
    }
   },
   "cell_type": "markdown",
   "metadata": {},
   "source": [
    "![image.png](attachment:image.png)"
   ]
  },
  {
   "cell_type": "code",
   "execution_count": 300,
   "metadata": {},
   "outputs": [],
   "source": [
    "def encoding_sim_score(query_encoding, reference_encoding):\n",
    "    sim = sim_matrix(query_encoding, reference_encoding)\n",
    "    max_vals, max_ind = torch.max(sim, axis=1)\n",
    "    max_vals += bias    \n",
    "    score = torch.sum( torch.log( nn.ReLU()(max_vals) + 1 ) )\n",
    "    return score"
   ]
  },
  {
   "cell_type": "code",
   "execution_count": 283,
   "metadata": {},
   "outputs": [
    {
     "data": {
      "text/plain": [
       "tensor([[0.4774, 0.3713, 0.3173, 0.3345, 0.3832, 0.4750],\n",
       "        [0.5126, 0.6466, 0.4511, 0.5007, 0.5570, 0.5628],\n",
       "        [0.4309, 0.5817, 0.4216, 0.4409, 0.5171, 0.6188],\n",
       "        [0.4458, 0.4765, 0.4404, 0.4084, 0.4906, 0.5209]],\n",
       "       grad_fn=<MmBackward>)"
      ]
     },
     "execution_count": 283,
     "metadata": {},
     "output_type": "execute_result"
    }
   ],
   "source": [
    "sim = sim_matrix(ent1, ent2)\n",
    "sim"
   ]
  },
  {
   "cell_type": "code",
   "execution_count": 293,
   "metadata": {},
   "outputs": [
    {
     "data": {
      "text/plain": [
       "tensor([0.4774, 0.6466, 0.6188, 0.5209], grad_fn=<MaxBackward0>)"
      ]
     },
     "execution_count": 293,
     "metadata": {},
     "output_type": "execute_result"
    }
   ],
   "source": [
    "max_vals, max_ind = torch.max(sim, axis=1)\n",
    "max_vals"
   ]
  },
  {
   "cell_type": "code",
   "execution_count": 294,
   "metadata": {},
   "outputs": [
    {
     "data": {
      "text/plain": [
       "tensor([0.4774, 0.6466, 0.6188, 0.5209], grad_fn=<AddBackward0>)"
      ]
     },
     "execution_count": 294,
     "metadata": {},
     "output_type": "execute_result"
    }
   ],
   "source": [
    "bias = nn.Parameter(torch.zeros(1))\n",
    "max_vals += bias\n",
    "max_vals"
   ]
  },
  {
   "cell_type": "code",
   "execution_count": 298,
   "metadata": {},
   "outputs": [
    {
     "data": {
      "text/plain": [
       "tensor(1.7900, grad_fn=<SumBackward0>)"
      ]
     },
     "execution_count": 298,
     "metadata": {},
     "output_type": "execute_result"
    }
   ],
   "source": [
    "torch.sum( torch.log( nn.ReLU()(max_vals) + 1 ) )"
   ]
  },
  {
   "cell_type": "code",
   "execution_count": null,
   "metadata": {},
   "outputs": [],
   "source": []
  }
 ],
 "metadata": {
  "kernelspec": {
   "display_name": "Python 3",
   "language": "python",
   "name": "python3"
  },
  "language_info": {
   "codemirror_mode": {
    "name": "ipython",
    "version": 3
   },
   "file_extension": ".py",
   "mimetype": "text/x-python",
   "name": "python",
   "nbconvert_exporter": "python",
   "pygments_lexer": "ipython3",
   "version": "3.7.4"
  }
 },
 "nbformat": 4,
 "nbformat_minor": 4
}
