{
 "cells": [
  {
   "cell_type": "code",
   "execution_count": 1,
   "id": "2c1ace4b",
   "metadata": {},
   "outputs": [
    {
     "data": {
      "text/plain": [
       "['capabilities.jsonl',\n",
       " 'diamond.coref-sep.708.jsonl',\n",
       " 'seeds',\n",
       " 'single_entity.jsonl',\n",
       " 'v4.coref-separated.jsonl']"
      ]
     },
     "execution_count": 1,
     "metadata": {},
     "output_type": "execute_result"
    }
   ],
   "source": [
    "import os\n",
    "import json\n",
    "\n",
    "os.chdir('..')\n",
    "os.listdir('data/seeds')\n",
    "os.listdir('data')"
   ]
  },
  {
   "cell_type": "markdown",
   "id": "75b12a36",
   "metadata": {},
   "source": [
    "### Read data"
   ]
  },
  {
   "cell_type": "code",
   "execution_count": 2,
   "id": "a1213e37",
   "metadata": {},
   "outputs": [
    {
     "data": {
      "text/plain": [
       "[[<src.data.Doc_Tokens at 0x1996418e708>, [(13, 16)]],\n",
       " [<src.data.Doc_Tokens at 0x1996611e708>, [(51, 51), (53, 53)]],\n",
       " [<src.data.Doc_Tokens at 0x1996612ee88>, [(51, 52), (83, 83)]]]"
      ]
     },
     "execution_count": 2,
     "metadata": {},
     "output_type": "execute_result"
    }
   ],
   "source": [
    "# Reading from jsonlines file\n",
    "with open('data/capabilities.jsonl', 'rb') as f:\n",
    "    lines = f.readlines()\n",
    "lines = [json.loads(line.decode('utf-8')) for line in lines]\n",
    "line = lines[0]\n",
    "\n",
    "from src.data import Data_Handler\n",
    "handler = Data_Handler()\n",
    "all_data = []\n",
    "for line in lines:\n",
    "    all_data.append( handler.process_prodigy_annot(line) )\n",
    "all_data[:3]"
   ]
  },
  {
   "cell_type": "code",
   "execution_count": 3,
   "id": "ba8ed7d4",
   "metadata": {},
   "outputs": [
    {
     "data": {
      "text/plain": [
       "265"
      ]
     },
     "execution_count": 3,
     "metadata": {},
     "output_type": "execute_result"
    }
   ],
   "source": [
    "len(all_data)"
   ]
  },
  {
   "cell_type": "code",
   "execution_count": 4,
   "id": "ddf1e837",
   "metadata": {},
   "outputs": [],
   "source": [
    "seed = all_data[:10]\n",
    "# seed = [all_data[1]]\n",
    "train = all_data[10:200]\n",
    "test = all_data[200:]"
   ]
  },
  {
   "cell_type": "markdown",
   "id": "07fbb572",
   "metadata": {},
   "source": [
    "### Load model\n",
    "```\n",
    "tensor([[[65, 64],\n",
    "         [68, 67]]])\n",
    "```"
   ]
  },
  {
   "cell_type": "code",
   "execution_count": 5,
   "id": "f917685c",
   "metadata": {},
   "outputs": [],
   "source": [
    "from src.dygie_ent import Dygie_Ent\n",
    "model = Dygie_Ent()\n",
    "model.references['capabilities'] = seed\n",
    "model.get_prototypes();"
   ]
  },
  {
   "cell_type": "markdown",
   "id": "9cefdab4",
   "metadata": {},
   "source": [
    "### Train model"
   ]
  },
  {
   "cell_type": "code",
   "execution_count": null,
   "id": "de08f246",
   "metadata": {},
   "outputs": [
    {
     "name": "stderr",
     "output_type": "stream",
     "text": [
      " 11%|████████▌                                                                        | 20/190 [03:07<27:16,  9.63s/it]"
     ]
    }
   ],
   "source": [
    "from tqdm import tqdm \n",
    "\n",
    "for epoch in range(50):\n",
    "    for doc, ent_spans in tqdm(train):\n",
    "        model.update(doc, ent_spans)\n",
    "        \n",
    "    prec, recall, f1 = model.evaluate(test)\n",
    "    print(f\"Epoch {epoch}: {prec, recall, f1}\")"
   ]
  },
  {
   "cell_type": "code",
   "execution_count": null,
   "id": "cf6a2987",
   "metadata": {},
   "outputs": [],
   "source": [
    "raise"
   ]
  },
  {
   "cell_type": "markdown",
   "id": "c1df7ca2",
   "metadata": {},
   "source": [
    "### "
   ]
  },
  {
   "cell_type": "code",
   "execution_count": null,
   "id": "3135dbb9",
   "metadata": {},
   "outputs": [],
   "source": []
  },
  {
   "cell_type": "code",
   "execution_count": null,
   "id": "0708a00f",
   "metadata": {},
   "outputs": [],
   "source": []
  },
  {
   "cell_type": "code",
   "execution_count": null,
   "id": "3155ab85",
   "metadata": {},
   "outputs": [],
   "source": []
  },
  {
   "cell_type": "code",
   "execution_count": null,
   "id": "747dcd94",
   "metadata": {},
   "outputs": [],
   "source": []
  },
  {
   "cell_type": "code",
   "execution_count": null,
   "id": "4ee07930",
   "metadata": {},
   "outputs": [],
   "source": []
  },
  {
   "cell_type": "code",
   "execution_count": null,
   "id": "f63d74f2",
   "metadata": {},
   "outputs": [],
   "source": []
  },
  {
   "cell_type": "code",
   "execution_count": null,
   "id": "73d46d38",
   "metadata": {},
   "outputs": [],
   "source": []
  },
  {
   "cell_type": "code",
   "execution_count": null,
   "id": "fcc4245e",
   "metadata": {},
   "outputs": [],
   "source": []
  },
  {
   "cell_type": "code",
   "execution_count": null,
   "id": "9209c8ef",
   "metadata": {},
   "outputs": [],
   "source": []
  }
 ],
 "metadata": {
  "kernelspec": {
   "display_name": "Python 3",
   "language": "python",
   "name": "python3"
  },
  "language_info": {
   "codemirror_mode": {
    "name": "ipython",
    "version": 3
   },
   "file_extension": ".py",
   "mimetype": "text/x-python",
   "name": "python",
   "nbconvert_exporter": "python",
   "pygments_lexer": "ipython3",
   "version": "3.7.4"
  }
 },
 "nbformat": 4,
 "nbformat_minor": 5
}
