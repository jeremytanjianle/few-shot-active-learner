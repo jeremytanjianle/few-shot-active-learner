{
 "cells": [
  {
   "cell_type": "code",
   "execution_count": 1,
   "id": "08486377",
   "metadata": {},
   "outputs": [
    {
     "data": {
      "text/plain": [
       "['adversary-org.jsonl']"
      ]
     },
     "execution_count": 1,
     "metadata": {},
     "output_type": "execute_result"
    }
   ],
   "source": [
    "import os\n",
    "import json\n",
    "\n",
    "os.chdir('..')\n",
    "os.listdir('data/seeds')"
   ]
  },
  {
   "cell_type": "code",
   "execution_count": 2,
   "id": "bf0723ff",
   "metadata": {},
   "outputs": [
    {
     "data": {
      "text/plain": [
       "[[<src.data.Doc_Tokens at 0x1b5aa8b04c8>, [(0, 2), (76, 78)]],\n",
       " [<src.data.Doc_Tokens at 0x1b5aa8b0bc8>, [(2, 3), (5, 9), (31, 32)]],\n",
       " [<src.data.Doc_Tokens at 0x1b5abbbfa88>,\n",
       "  [(12, 13), (45, 46), (89, 90), (72, 74)]]]"
      ]
     },
     "execution_count": 2,
     "metadata": {},
     "output_type": "execute_result"
    }
   ],
   "source": [
    "# Reading from jsonlines file\n",
    "with open('data/seeds/adversary-org.jsonl', 'rb') as f:\n",
    "    lines = f.readlines()\n",
    "lines = [json.loads(line.decode('utf-8')) for line in lines]\n",
    "line = lines[0]\n",
    "\n",
    "import torch\n",
    "from transformers import AdamW\n",
    "\n",
    "from src.data import Data_Handler\n",
    "\n",
    "handler = Data_Handler()\n",
    "references = []\n",
    "for line in lines:\n",
    "    references.append( handler.process_prodigy_annot(line) )\n",
    "    \n",
    "unique_texts = list(set([reference[0].doc.text for reference in references]))\n",
    "references"
   ]
  },
  {
   "cell_type": "markdown",
   "id": "80334af7",
   "metadata": {},
   "source": [
    "### Prepare model & references"
   ]
  },
  {
   "cell_type": "code",
   "execution_count": 3,
   "id": "3300f1dd",
   "metadata": {},
   "outputs": [],
   "source": [
    "from src.dygie_ent import Dygie_Ent\n",
    "model = Dygie_Ent()\n",
    "model.references['adversary'] = references\n",
    "model.get_prototypes();"
   ]
  },
  {
   "cell_type": "markdown",
   "id": "41221aab",
   "metadata": {},
   "source": [
    "### Prepare input text"
   ]
  },
  {
   "cell_type": "code",
   "execution_count": 4,
   "id": "d251e448",
   "metadata": {},
   "outputs": [
    {
     "data": {
      "text/plain": [
       "'The activity of the advanced hacker group the researchers call Silence has increased significantly over the past year. Victims in the financial sector are scattered across more than 30 countries and financial losses have quintupled.\\n The group started timidly in 2016, learning the ropes by following the path beaten by other hackers. Since then, it managed to steal at least $4.2 million, initially from banks in the former Soviet Union, then from victims in Europe, Latin America, Africa, and Asia.\\n Researchers at Group-IB, Singapore-based cybersecurity company specializing in attack prevention, tracked Silence early on and judged its members to be familiar with white-hat security activity.\\n A report last year\\xa0details the roles of Silence hackers, their skills, failures, and successful bank heists'"
      ]
     },
     "execution_count": 4,
     "metadata": {},
     "output_type": "execute_result"
    }
   ],
   "source": [
    "text = \"The activity of the advanced hacker group the researchers call Silence has increased significantly over the past year. Victims in the financial sector are scattered across more than 30 countries and financial losses have quintupled.\\n The group started timidly in 2016, learning the ropes by following the path beaten by other hackers. Since then, it managed to steal at least $4.2 million, initially from banks in the former Soviet Union, then from victims in Europe, Latin America, Africa, and Asia.\\n Researchers at Group-IB, Singapore-based cybersecurity company specializing in attack prevention, tracked Silence early on and judged its members to be familiar with white-hat security activity.\\n A report last year\\xa0details the roles of Silence hackers, their skills, failures, and successful bank heists\"\n",
    "text"
   ]
  },
  {
   "cell_type": "code",
   "execution_count": 5,
   "id": "14fd8392",
   "metadata": {},
   "outputs": [],
   "source": [
    "doc = handler.process_sentence(text)\n",
    "# for tok in doc.doc:\n",
    "#     print(tok.i, tok)\n",
    "ent_spans = [(10,10), (38,39), (111, 111), (138,139)]"
   ]
  },
  {
   "cell_type": "markdown",
   "id": "d17ec424",
   "metadata": {},
   "source": [
    "### Test forward"
   ]
  },
  {
   "cell_type": "code",
   "execution_count": 6,
   "id": "6805dded",
   "metadata": {},
   "outputs": [
    {
     "data": {
      "text/plain": [
       "torch.Size([594, 2])"
      ]
     },
     "execution_count": 6,
     "metadata": {},
     "output_type": "execute_result"
    }
   ],
   "source": [
    "probs = model(doc)\n",
    "probs.shape"
   ]
  },
  {
   "cell_type": "markdown",
   "id": "d7fe9fe2",
   "metadata": {},
   "source": [
    "### Test eval function"
   ]
  },
  {
   "cell_type": "code",
   "execution_count": 7,
   "id": "1669e2d8",
   "metadata": {},
   "outputs": [
    {
     "data": {
      "text/plain": [
       "([1.0], [0.0010660980810234541], [0.0021299254526091584])"
      ]
     },
     "execution_count": 7,
     "metadata": {},
     "output_type": "execute_result"
    }
   ],
   "source": [
    "model.evaluate(references)"
   ]
  },
  {
   "cell_type": "markdown",
   "id": "65eb2739",
   "metadata": {},
   "source": [
    "### Test update"
   ]
  },
  {
   "cell_type": "code",
   "execution_count": null,
   "id": "d426cbb6",
   "metadata": {},
   "outputs": [],
   "source": [
    "model.update(doc, ent_spans)"
   ]
  },
  {
   "cell_type": "markdown",
   "id": "0db803ef",
   "metadata": {},
   "source": [
    "### Test accept references"
   ]
  },
  {
   "cell_type": "code",
   "execution_count": null,
   "id": "f4c14cfe",
   "metadata": {},
   "outputs": [],
   "source": [
    "model.accept_reference(doc, 'adversary', ent_spans)"
   ]
  },
  {
   "cell_type": "code",
   "execution_count": null,
   "id": "b5ce3667",
   "metadata": {},
   "outputs": [],
   "source": [
    "model.references"
   ]
  },
  {
   "cell_type": "markdown",
   "id": "898169b5",
   "metadata": {},
   "source": [
    "### Test save and load model"
   ]
  },
  {
   "cell_type": "code",
   "execution_count": null,
   "id": "ca7c2f09",
   "metadata": {},
   "outputs": [],
   "source": [
    "model.save('models/test_checkpoint')"
   ]
  },
  {
   "cell_type": "code",
   "execution_count": null,
   "id": "571e9c83",
   "metadata": {},
   "outputs": [],
   "source": [
    "model.load('models/test_checkpoint')"
   ]
  },
  {
   "cell_type": "code",
   "execution_count": null,
   "id": "cc675b5e",
   "metadata": {},
   "outputs": [],
   "source": []
  }
 ],
 "metadata": {
  "kernelspec": {
   "display_name": "Python 3",
   "language": "python",
   "name": "python3"
  },
  "language_info": {
   "codemirror_mode": {
    "name": "ipython",
    "version": 3
   },
   "file_extension": ".py",
   "mimetype": "text/x-python",
   "name": "python",
   "nbconvert_exporter": "python",
   "pygments_lexer": "ipython3",
   "version": "3.7.4"
  }
 },
 "nbformat": 4,
 "nbformat_minor": 5
}
