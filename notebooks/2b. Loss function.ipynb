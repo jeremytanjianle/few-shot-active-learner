{
 "cells": [
  {
   "cell_type": "code",
   "execution_count": 1,
   "id": "39ff3d7c",
   "metadata": {
    "scrolled": true
   },
   "outputs": [
    {
     "data": {
      "text/plain": [
       "['adversary-org.jsonl']"
      ]
     },
     "execution_count": 1,
     "metadata": {},
     "output_type": "execute_result"
    }
   ],
   "source": [
    "import os\n",
    "import json\n",
    "\n",
    "os.chdir('..')\n",
    "os.listdir('data/seeds')"
   ]
  },
  {
   "cell_type": "markdown",
   "id": "4cf28cd7",
   "metadata": {},
   "source": [
    "### Read Support Data"
   ]
  },
  {
   "cell_type": "code",
   "execution_count": 2,
   "id": "82d44194",
   "metadata": {},
   "outputs": [
    {
     "data": {
      "text/plain": [
       "[[<src.data.Doc_Tokens at 0x227a2441388>, [(0, 1), (76, 77)]],\n",
       " [<src.data.Doc_Tokens at 0x227a248ea48>, [(2, 2), (5, 8), (31, 31)]],\n",
       " [<src.data.Doc_Tokens at 0x227a520dec8>,\n",
       "  [(12, 12), (45, 45), (89, 89), (72, 73)]]]"
      ]
     },
     "execution_count": 2,
     "metadata": {},
     "output_type": "execute_result"
    }
   ],
   "source": [
    "# Reading from jsonlines file\n",
    "with open('data/seeds/adversary-org.jsonl', 'rb') as f:\n",
    "    lines = f.readlines()\n",
    "lines = [json.loads(line.decode('utf-8')) for line in lines]\n",
    "line = lines[0]\n",
    "\n",
    "import torch\n",
    "from transformers import AdamW\n",
    "\n",
    "from src.data import Data_Handler\n",
    "\n",
    "handler = Data_Handler()\n",
    "references = []\n",
    "for line in lines:\n",
    "    references.append( handler.process_spacy_annot(line) )\n",
    "    \n",
    "unique_texts = list(set([reference[0].doc.text for reference in references]))\n",
    "references"
   ]
  },
  {
   "cell_type": "code",
   "execution_count": 3,
   "id": "baa838dc",
   "metadata": {},
   "outputs": [
    {
     "data": {
      "text/plain": [
       "[[<src.data.Doc_Tokens at 0x227a2441388>, [(0, 1), (76, 77)]],\n",
       " [<src.data.Doc_Tokens at 0x227a248ea48>, [(2, 2), (5, 8), (31, 31)]],\n",
       " [<src.data.Doc_Tokens at 0x227a520dec8>,\n",
       "  [(12, 12), (45, 45), (89, 89), (72, 73)]]]"
      ]
     },
     "execution_count": 3,
     "metadata": {},
     "output_type": "execute_result"
    }
   ],
   "source": [
    "references"
   ]
  },
  {
   "cell_type": "markdown",
   "id": "0a0677cd",
   "metadata": {},
   "source": [
    "### Support Class"
   ]
  },
  {
   "cell_type": "code",
   "execution_count": 4,
   "id": "06f19a41",
   "metadata": {},
   "outputs": [],
   "source": [
    "class Support:\n",
    "    \"\"\"\n",
    "    One Class support\n",
    "    \"\"\"\n",
    "    def __init__(self, label, references, prototype_rep = None):\n",
    "        self.label = label\n",
    "        self.references = references\n",
    "        self.prototype_rep = prototype_rep\n",
    "        \n",
    "sup = Support(\"adversary\", references)"
   ]
  },
  {
   "cell_type": "markdown",
   "id": "2f7bf1e2",
   "metadata": {},
   "source": [
    "### Loading Support"
   ]
  },
  {
   "cell_type": "code",
   "execution_count": 5,
   "id": "cf80aebd",
   "metadata": {},
   "outputs": [],
   "source": [
    "from src.dygie_ent import Dygie_Ent\n",
    "model = Dygie_Ent()"
   ]
  },
  {
   "cell_type": "markdown",
   "id": "8b3c5670",
   "metadata": {},
   "source": [
    "### 1. Calculate prototype"
   ]
  },
  {
   "cell_type": "code",
   "execution_count": 7,
   "id": "9def136c",
   "metadata": {},
   "outputs": [],
   "source": [
    "# def get_unique_spans(references):\n",
    "#     unique_texts = list(set([reference.doc.text for reference in references]))\n",
    "    \n",
    "#     text_2_spans = []\n",
    "#     for unique_text in unique_texts:\n",
    "#         print(unique_text)\n",
    "#         spans = [ref.span_tuple for ref in references if ref.doc.text == unique_text]\n",
    "#         doc = handler.process_sentence(unique_text)\n",
    "#         text_2_spans.append([doc, spans])\n",
    "        \n",
    "#     return text_2_spans\n",
    "# doc_span_pairs = get_unique_spans(references)\n",
    "# doc_span_pairs"
   ]
  },
  {
   "cell_type": "code",
   "execution_count": 6,
   "id": "c7ee5d58",
   "metadata": {},
   "outputs": [
    {
     "data": {
      "text/plain": [
       "tensor([[[ 2.5397e-01,  2.7272e-01, -6.6942e-02,  4.9511e-02,  5.1519e-02,\n",
       "          -1.8112e-01,  2.1526e-01,  2.7567e-03, -9.9313e-02,  2.9337e-01,\n",
       "          -3.7707e-01, -8.6256e-03,  3.6425e-01,  5.1284e-02,  7.7859e-02,\n",
       "          -2.1698e-02, -2.0512e-01,  1.0793e-01, -7.7208e-02,  6.0131e-03,\n",
       "          -4.5704e-01, -2.5524e-01,  2.0992e-01, -2.6664e-01, -2.3550e-01,\n",
       "          -7.9316e-02,  3.2734e-02,  5.4942e-02,  8.9804e-02,  8.2831e-02,\n",
       "           5.7981e-02, -4.7596e-01,  1.8200e-02,  2.6689e-01, -4.7884e-01,\n",
       "          -2.2027e-03,  3.6676e-02,  1.7224e-01,  1.3287e-01, -3.1933e-01,\n",
       "          -1.5459e-01, -1.5890e-01,  1.4062e-02, -1.6998e-02, -1.3967e-01,\n",
       "          -8.6211e-02,  4.0028e-01, -8.3599e-02, -4.7588e-02, -4.1036e-01,\n",
       "          -3.3558e-01,  1.9723e-01, -5.1036e-01, -1.6826e-01,  5.8366e-02,\n",
       "           5.7200e-01, -4.7079e-01,  1.0036e-01, -4.6616e-02,  1.9194e-01,\n",
       "           4.1204e-01,  1.7132e-01, -4.5358e-01,  1.7432e-02, -1.5045e-01,\n",
       "           2.5946e-01, -1.8344e-01,  5.0981e-02,  1.6471e-01, -1.1207e-01,\n",
       "          -2.7020e-02, -1.7316e-01, -1.9703e-04,  3.6875e-01, -8.4176e-02,\n",
       "          -2.9088e-01,  6.5436e-02, -1.9721e-01,  7.5577e-02, -4.6772e-01,\n",
       "           2.1301e-01, -3.5849e-02,  2.4283e-01,  2.7128e-01,  6.4085e-02,\n",
       "          -5.3623e-02,  3.3724e-01, -6.6020e-03, -3.4580e-01,  1.0005e-02,\n",
       "           2.1973e-01, -1.3506e-01,  3.1605e-01,  4.4863e-01, -3.0731e-01,\n",
       "           5.5853e-01, -4.7301e-01,  2.3003e-01, -2.6797e-02, -5.5799e-02,\n",
       "           2.4220e-01,  6.6150e-02,  7.4940e-02,  2.0540e-01,  6.3882e-02,\n",
       "           3.2596e-01, -8.1560e-02,  3.2845e-01,  1.1149e-01,  1.5431e-01,\n",
       "          -2.0698e-01,  8.6682e-02,  1.6329e-01,  2.6099e-01, -1.7508e-01,\n",
       "          -2.8952e-01,  1.8276e-01, -1.9923e-01, -2.1322e-01,  9.9991e-02,\n",
       "           4.3229e-01,  1.1543e-01, -1.6369e-01, -2.2440e-02, -1.6639e-01,\n",
       "          -3.3985e-01,  1.8826e-01, -1.5987e-01, -6.4115e-01,  2.1778e-01,\n",
       "          -2.7506e-01, -3.1664e-01,  3.8140e-02,  3.7611e-01,  1.6135e-01,\n",
       "          -1.3104e-01, -1.6227e-01, -3.4890e-01, -2.2465e-01,  1.0430e-01,\n",
       "          -3.3530e-01, -3.8577e-01, -2.1405e-01, -1.7390e-01, -1.2014e-01,\n",
       "          -6.0614e-01,  2.6761e-01,  1.2252e-01,  8.5804e-02,  3.5306e-01,\n",
       "           1.1981e-02, -3.5944e-01, -4.2460e-01,  4.3076e-01, -7.6384e-02,\n",
       "          -1.9561e-01,  2.8805e-01, -9.3138e-02, -8.7879e-02,  8.1601e-02,\n",
       "           5.3323e-02,  7.1254e-01,  1.9968e-01, -1.1457e-01, -2.2156e-01,\n",
       "           7.2566e-02,  1.8744e-02, -3.7884e-02, -1.4970e-01, -3.5355e-01,\n",
       "           1.2137e-01,  1.6846e-01,  5.7777e-01,  1.1667e-01, -5.4776e-01,\n",
       "          -3.2176e-01,  1.0333e-01, -3.3000e-01,  1.3014e-01,  5.3618e-01,\n",
       "           5.0965e-01,  2.9971e-01,  4.9212e-02,  6.1213e-01,  3.0218e-02,\n",
       "           3.1591e-01,  1.2320e-01, -1.0949e-02, -1.0227e-01,  2.5668e-02,\n",
       "           6.1341e-02,  5.5269e-01, -1.4673e-01,  3.4163e-01,  2.3861e-01,\n",
       "           1.4288e-01, -1.3037e-01, -3.8542e-01, -6.6713e-03,  4.3396e-02,\n",
       "          -3.2422e-01,  4.6851e-01,  2.0741e-01,  2.0949e-01,  1.9983e-01,\n",
       "          -5.5197e-01,  5.6348e-02, -1.9353e-01, -4.3904e-01, -2.2072e-01,\n",
       "           4.7406e-01, -2.6444e-01, -1.8899e-01, -3.4650e-01,  5.3947e-01,\n",
       "          -2.9068e-01,  3.4493e-01,  3.7921e-01, -2.0159e-01,  3.0211e-02,\n",
       "           1.4456e-01,  1.0229e-01,  1.1893e-01,  4.0698e-01,  3.1734e-01,\n",
       "           5.4358e-01,  1.4442e-01,  1.6297e-01,  3.4471e-01, -4.6492e-01,\n",
       "          -1.5354e-01, -2.7710e-01,  2.6493e-02,  3.0585e-01,  2.2619e-01,\n",
       "           2.0879e-01,  2.4505e-01, -9.3515e-02,  5.6976e-02, -1.4390e-01,\n",
       "          -1.5015e-01,  8.9129e-02,  4.2379e-01, -1.2601e-01, -1.9035e-01,\n",
       "           2.1166e-01,  2.4966e-01,  7.3073e-03, -1.1507e-01, -2.0255e-01,\n",
       "          -7.4454e-02,  1.6582e-02, -1.9198e-01,  1.5379e-01, -1.8890e-01,\n",
       "           1.8239e-01,  1.9239e-01, -3.6810e-01, -2.0293e-01,  1.2879e-01,\n",
       "          -2.3225e-01, -8.5610e-02,  4.2428e-01,  1.5594e-01,  3.4464e-01,\n",
       "          -6.8288e-02, -1.7079e-02,  1.2996e-01, -1.3596e-01,  2.1689e-01,\n",
       "          -2.3480e-01,  2.1998e-01, -5.2033e-02,  3.0515e-01, -6.3358e-02,\n",
       "           1.3348e-01, -1.2723e-01, -1.9828e-01,  1.2908e-01, -1.4928e-01,\n",
       "          -7.6499e-02, -4.1108e-01, -7.9923e-02,  1.0016e-01, -1.6064e-01,\n",
       "          -5.0755e-01, -2.9405e-01, -3.3763e-01,  2.9283e-01, -1.1802e-01,\n",
       "          -3.0288e-01,  3.8598e-02,  2.9046e-01,  1.2811e-01, -5.3717e-01,\n",
       "          -2.6255e-01, -1.2337e-01,  2.4166e-01, -2.6337e-01, -1.8769e-01,\n",
       "          -1.4028e-01,  1.7664e-01,  2.9548e-03, -6.0233e-02, -2.8238e-01,\n",
       "          -2.6111e-01,  1.4698e-01,  1.6695e-02,  1.6770e-01,  2.8418e-01,\n",
       "           9.6026e-02,  4.7310e-01,  2.4194e-01,  1.3707e-01,  7.1001e-02,\n",
       "           2.6063e-01, -5.8048e-01,  6.8716e-02, -2.7112e-01,  6.2885e-01,\n",
       "           1.3196e-01,  3.4708e-01,  2.7288e-01,  1.3205e-01,  1.2708e-01,\n",
       "          -1.1879e-01,  1.0831e-01, -1.3991e-01,  3.0554e-01, -3.6036e-03,\n",
       "           7.4601e-03, -3.6057e-02, -4.6531e-01, -4.9458e-02,  3.1124e-01,\n",
       "          -5.8346e-01, -4.5707e-01, -2.3716e-01, -5.2023e-01,  2.1722e-01,\n",
       "           9.0447e-02, -2.8246e-01,  3.7438e-01, -2.3910e-01,  1.9445e-01,\n",
       "           4.4963e-02, -1.3465e-01,  1.6897e-01,  2.8811e-02,  1.3100e-01,\n",
       "           1.0004e-01,  6.6002e-02, -1.5023e-01,  3.2033e-01, -1.2467e-01,\n",
       "           2.2736e-02, -2.0303e-01, -1.3667e-01, -6.7287e-04, -3.4893e-01,\n",
       "          -4.4610e-01, -6.8271e-03,  2.5954e-01, -2.1586e-01, -3.2621e-01,\n",
       "           1.0434e-01, -3.0974e-01, -5.0349e-02,  3.0044e-01,  3.5804e-02,\n",
       "          -2.9638e-01, -1.0353e-01,  4.6884e-01,  2.3806e-02, -3.8181e-01,\n",
       "           4.0016e-02, -5.8905e-02,  1.9961e-01, -3.4163e-01, -3.1059e-01,\n",
       "           3.8002e-01,  1.2648e-02,  2.1948e-01, -7.3719e-02,  1.0685e-01,\n",
       "          -2.6925e-01, -2.0908e-01, -5.4066e-02, -1.8843e-01, -4.0882e-01,\n",
       "          -5.1545e-03, -3.1449e-01, -2.9537e-01,  2.2561e-01, -1.2639e-01,\n",
       "           2.5430e-02, -2.0662e-01, -1.3583e-01, -4.0768e-01, -1.3061e-01,\n",
       "          -2.7855e-01, -3.3842e-01, -3.0769e-01, -2.6004e-01,  8.2230e-02,\n",
       "           9.2384e-01,  4.3176e-01,  2.2408e-01,  1.5373e-01,  5.0169e-01,\n",
       "           3.9372e-01,  3.2514e-01, -1.3582e-01,  4.0549e-01,  2.3216e-01,\n",
       "          -2.7088e-01, -2.0246e-01, -2.7728e-01,  1.2775e-01, -5.4456e-02,\n",
       "          -5.3596e-02, -5.4153e-02, -3.7084e-02, -1.4388e-01,  2.8917e-01,\n",
       "           3.4218e-02, -2.8198e-01,  3.8112e-02, -2.9098e-01, -1.3492e-01,\n",
       "          -9.2328e-02, -1.2945e-01, -3.2759e-01, -8.9140e-02, -2.3279e-01,\n",
       "           4.5339e-01,  6.0486e-02, -2.8440e-01, -2.2547e-01, -2.1177e-01,\n",
       "          -5.8807e-01, -3.4908e-02, -2.8211e-01, -8.7431e-02, -1.5996e-01,\n",
       "          -1.3544e-02,  1.5579e-03, -1.3431e-01, -1.2754e-01,  2.5137e-02,\n",
       "           5.5930e-02, -8.9164e-02,  1.0892e-01,  2.6649e-01, -1.9370e-01,\n",
       "           3.2042e-01,  1.8007e-01,  2.4574e-01,  1.2959e-01,  1.5935e-01,\n",
       "          -1.7487e-01,  5.1831e-02, -2.1703e-01,  1.7171e-01,  6.1530e-01,\n",
       "          -2.3027e-01,  2.3346e-01,  3.5472e-01,  3.9000e-01, -1.5584e-01,\n",
       "          -2.1188e-01,  9.9263e-02, -8.1918e-02, -1.8420e-01, -1.4119e-01,\n",
       "          -1.8113e-01,  1.6027e-01,  2.9244e-02, -1.8225e-01, -1.1836e-01,\n",
       "           1.7840e-01,  6.0731e-01, -5.5023e-02, -2.5843e-01,  1.0411e-01,\n",
       "          -5.1145e-01, -5.2085e-01,  2.6658e-01, -1.7018e-01, -1.0014e-01,\n",
       "           2.2143e-01,  3.8657e-01, -1.1291e-01,  2.2181e-01,  1.6241e-01,\n",
       "           9.8552e-02,  9.0852e-03, -2.7050e-01, -1.6494e-01, -1.7661e-01,\n",
       "          -7.8893e-02, -4.4290e-01,  1.4248e-01, -3.2682e-01,  2.1107e-01,\n",
       "           5.5396e-03,  3.7564e-01,  1.8051e-01, -3.7438e-03, -1.3280e-01,\n",
       "          -4.4912e-01,  8.8991e-02, -1.8885e-01,  9.1654e-02,  5.7727e-03,\n",
       "           1.0394e-01, -1.6569e-01, -4.1849e-01, -3.9707e-01,  4.3670e-02,\n",
       "          -1.2942e-01,  3.0234e-01, -5.2191e-01, -9.1729e-02, -9.1624e-02,\n",
       "          -8.8087e-01,  3.3969e-02, -4.9792e-01,  6.8676e-02, -2.7301e-01,\n",
       "           3.2499e-01, -2.1423e-01, -1.5030e-01,  1.4771e-01, -6.0413e-01,\n",
       "           1.0960e-01, -1.5455e-01, -1.1141e-01,  2.3887e-01, -2.6919e-01,\n",
       "          -9.5951e-02,  1.7646e-01,  1.0197e-01,  4.3309e-01, -5.2210e-02,\n",
       "          -2.1012e-01,  1.7421e-01,  3.5945e-01,  1.7571e-01,  8.1078e-02,\n",
       "          -4.5141e-02, -2.0574e-01, -3.5042e-01, -7.6915e-02, -5.2860e-01,\n",
       "          -1.3122e-01,  1.7892e-02,  2.1159e-02, -3.1292e-01,  4.1241e-02,\n",
       "          -1.8999e-01, -7.0026e-02,  7.2445e-02,  1.2715e-01, -1.4364e-01,\n",
       "          -3.2018e-01, -2.4520e-01,  1.3853e-01, -1.4482e-01,  2.1445e-01,\n",
       "           1.3153e-03,  2.7274e-01, -1.7537e-01, -5.4372e-01,  5.4640e-02,\n",
       "           9.2665e-02, -1.6145e-02,  3.5860e-01,  1.8485e-01,  1.3171e-01,\n",
       "           1.5466e-01,  2.9244e-01, -1.2168e-01,  5.2381e-02,  3.9206e-01,\n",
       "          -2.2410e-01,  4.1636e-02, -2.4597e-01,  1.8003e-01,  7.3148e-02,\n",
       "           1.9076e-01,  9.7622e-02,  4.8963e-01, -1.1162e-01,  1.8201e-02,\n",
       "           3.9076e-01, -4.8418e-01,  2.2491e-01,  3.2011e-01, -2.6768e-02,\n",
       "          -5.3863e-01,  1.7129e-01, -4.3611e-01,  1.9392e-03, -1.0756e-01,\n",
       "          -1.6484e-01,  4.3124e-01, -1.4998e-01,  6.5312e-01,  1.2984e-01,\n",
       "          -9.3204e-02, -7.8107e-02, -1.5666e-01, -2.2467e-01, -2.5083e-01,\n",
       "           2.9607e-01, -6.5023e-02,  3.4934e-01, -1.6861e-02,  1.9585e-01,\n",
       "           4.1575e-02, -1.6882e-02, -3.5641e-01,  2.9263e-01,  7.4168e-02,\n",
       "           2.4251e-01, -2.3958e-01, -1.7585e-01, -1.6884e-01,  1.6121e-01,\n",
       "           3.0516e-03,  1.0407e-01,  6.3847e-02,  3.5181e-01, -2.9698e-02,\n",
       "          -1.2458e-02,  2.5635e-01,  3.6655e-02,  2.9999e-01, -2.6122e-02,\n",
       "           9.2981e-02,  1.6338e-01, -5.7679e-03,  9.3703e-02,  1.2938e-01,\n",
       "          -2.2306e-01,  1.4224e-01, -4.6123e-01, -5.6172e-02,  2.8812e-01,\n",
       "          -1.1816e-01,  1.2871e-01, -1.8152e-01, -7.2535e-02, -1.1215e-01,\n",
       "           4.0588e-02,  1.5133e-01, -9.4374e-02, -4.4701e-02, -4.8348e-01,\n",
       "          -4.2113e-03, -2.2987e-01, -1.0403e-01, -2.7946e-01, -4.7036e-03,\n",
       "           4.8886e-01,  7.0693e-01,  1.2080e-01,  6.5719e-02, -9.9377e-02,\n",
       "           4.9498e-01, -2.7367e-01, -7.7308e-02,  4.5751e-01,  9.7417e-02,\n",
       "           4.5163e-01, -1.7254e-01,  3.7276e-01, -8.5922e-02, -3.3318e-02,\n",
       "           1.0135e-01,  4.6575e-01, -3.6014e-02, -1.8138e-01,  5.4881e-01,\n",
       "           3.3146e-01, -4.9682e-01,  3.1556e-01, -9.2271e-02, -1.7498e-01,\n",
       "           2.2413e-01,  1.5745e-01, -1.2668e-01,  1.1177e-01, -2.9616e-01,\n",
       "          -2.2593e-01,  1.9613e-01, -1.0863e-01, -2.5158e-01, -2.5351e-01,\n",
       "           5.2496e-02, -1.3090e-01,  1.2302e-02,  1.5771e-01, -4.2243e-01,\n",
       "          -4.3446e-02, -1.1348e-01, -2.4699e-01, -5.4192e-03,  3.5293e-02,\n",
       "          -2.0560e-01,  5.5631e-02,  5.0323e-01, -9.4689e-02,  1.8142e-02,\n",
       "          -2.7083e-01, -7.9757e-02,  3.9654e-01,  4.8033e-02, -3.2397e-01,\n",
       "           2.0858e-01,  3.3930e-02,  1.5258e-01,  2.2182e-01,  1.7045e-01,\n",
       "          -3.6500e-01, -5.5046e-01,  6.4924e-02, -7.9171e-02,  4.2908e-02,\n",
       "           2.2150e-01,  8.2439e-02, -2.8271e-01, -1.9667e-01, -1.6322e-01,\n",
       "          -1.6208e-01, -1.5105e-01, -4.2969e-01,  9.0786e-02,  5.3941e-01,\n",
       "          -2.1873e-01, -5.1654e-02, -4.5191e-02, -3.8032e-01, -5.8752e-01,\n",
       "           1.4667e-01, -2.5636e-01, -4.2385e-01, -1.6122e-01, -4.3300e-01,\n",
       "          -3.5089e-01,  7.9234e-02,  1.1421e-01, -2.7826e-01, -3.0728e-01,\n",
       "          -1.0081e-02,  4.1341e-01, -5.8476e-02,  4.0846e-02, -7.7505e-02,\n",
       "          -4.1643e-02, -1.0465e-01,  8.1658e-02, -1.2907e-01,  1.2349e-01,\n",
       "           3.8788e-01,  2.6341e-01,  1.1025e-01]]], grad_fn=<MeanBackward1>)"
      ]
     },
     "execution_count": 6,
     "metadata": {},
     "output_type": "execute_result"
    }
   ],
   "source": [
    "def get_prototype(doc_span_pairs):\n",
    "    \"\"\"\n",
    "    Sample input:\n",
    "    ------------\n",
    "    [[<src.data.Doc_Tokens at 0x2793506e4c8>,\n",
    "      [(12, 12), (45, 45), (89, 89), (72, 73)]],\n",
    "     [<src.data.Doc_Tokens at 0x27935047e48>, [(0, 1), (76, 77)]],\n",
    "     [<src.data.Doc_Tokens at 0x27938cf2388>, [(2, 2), (5, 8), (31, 31)]]]\n",
    "     \n",
    "    :param doc_span_pairs: list of lists which contains a pair of docs and list of spans\n",
    "    :return prototype_encoding: Torch tensor of shape (1 x embedding)\n",
    "    \"\"\"\n",
    "    \n",
    "    support_encodings = []\n",
    "    for doc, span in doc_span_pairs:\n",
    "        encodings = model.encode_spans(doc, span)\n",
    "        support_encodings.append(encodings)\n",
    "    prototype_encoding = torch.cat(support_encodings, axis=1)\n",
    "    prototype_encoding = torch.mean(prototype_encoding, axis=1, keepdim=True)\n",
    "    \n",
    "    return prototype_encoding\n",
    "\n",
    "get_prototype(references)"
   ]
  },
  {
   "cell_type": "markdown",
   "id": "ea5cd14a",
   "metadata": {},
   "source": [
    "### Forward function"
   ]
  },
  {
   "cell_type": "markdown",
   "id": "bc52c640",
   "metadata": {},
   "source": [
    "Create input doc"
   ]
  },
  {
   "cell_type": "code",
   "execution_count": 7,
   "id": "187b7c95",
   "metadata": {},
   "outputs": [
    {
     "data": {
      "text/plain": [
       "'The activity of the advanced hacker group the researchers call Silence has increased significantly over the past year. Victims in the financial sector are scattered across more than 30 countries and financial losses have quintupled.\\n The group started timidly in 2016, learning the ropes by following the path beaten by other hackers. Since then, it managed to steal at least $4.2 million, initially from banks in the former Soviet Union, then from victims in Europe, Latin America, Africa, and Asia.\\n Researchers at Group-IB, Singapore-based cybersecurity company specializing in attack prevention, tracked Silence early on and judged its members to be familiar with white-hat security activity.\\n A report last year\\xa0details the roles of Silence hackers, their skills, failures, and successful bank heists'"
      ]
     },
     "execution_count": 7,
     "metadata": {},
     "output_type": "execute_result"
    }
   ],
   "source": [
    "text = \"The activity of the advanced hacker group the researchers call Silence has increased significantly over the past year. Victims in the financial sector are scattered across more than 30 countries and financial losses have quintupled.\\n The group started timidly in 2016, learning the ropes by following the path beaten by other hackers. Since then, it managed to steal at least $4.2 million, initially from banks in the former Soviet Union, then from victims in Europe, Latin America, Africa, and Asia.\\n Researchers at Group-IB, Singapore-based cybersecurity company specializing in attack prevention, tracked Silence early on and judged its members to be familiar with white-hat security activity.\\n A report last year\\xa0details the roles of Silence hackers, their skills, failures, and successful bank heists\"\n",
    "text"
   ]
  },
  {
   "cell_type": "code",
   "execution_count": 8,
   "id": "decf8904",
   "metadata": {},
   "outputs": [],
   "source": [
    "doc = handler.process_sentence(text)\n",
    "# for tok in doc.doc:\n",
    "#     print(tok.i, tok)\n",
    "ent_spans = [(10,10), (38,39), (111, 111), (138,139)]"
   ]
  },
  {
   "cell_type": "markdown",
   "id": "d90d8432",
   "metadata": {},
   "source": [
    "Init model"
   ]
  },
  {
   "cell_type": "code",
   "execution_count": 9,
   "id": "2727d352",
   "metadata": {},
   "outputs": [],
   "source": [
    "from src.dygie_ent import Dygie_Ent\n",
    "model = Dygie_Ent()"
   ]
  },
  {
   "cell_type": "markdown",
   "id": "d70a7086",
   "metadata": {},
   "source": [
    "Create spans of the document"
   ]
  },
  {
   "cell_type": "code",
   "execution_count": 47,
   "id": "48e652db",
   "metadata": {},
   "outputs": [],
   "source": [
    "from allennlp.data.dataset_readers.dataset_utils.span_utils import enumerate_spans\n",
    "all_spans = enumerate_spans(doc.doc, max_span_width=4)\n",
    "labels = [ int(span in ent_spans) for span in all_spans]\n",
    "\n",
    "# convert to torch"
   ]
  },
  {
   "cell_type": "code",
   "execution_count": 71,
   "id": "7305ebb4",
   "metadata": {},
   "outputs": [
    {
     "data": {
      "text/plain": [
       "<generator object Module.parameters at 0x00000227A8111E48>"
      ]
     },
     "execution_count": 71,
     "metadata": {},
     "output_type": "execute_result"
    }
   ],
   "source": [
    "model.parameters()"
   ]
  },
  {
   "cell_type": "code",
   "execution_count": 48,
   "id": "dc49ae26",
   "metadata": {},
   "outputs": [
    {
     "data": {
      "text/plain": [
       "594"
      ]
     },
     "execution_count": 48,
     "metadata": {},
     "output_type": "execute_result"
    }
   ],
   "source": [
    "len(labels)"
   ]
  },
  {
   "cell_type": "markdown",
   "id": "8229c6dd",
   "metadata": {},
   "source": [
    "Encode `all_spans`  \n",
    "Running for 594 spans  \n",
    "282 ms ± 7.69 ms per loop (mean ± std. dev. of 7 runs, 1 loop each)"
   ]
  },
  {
   "cell_type": "code",
   "execution_count": 27,
   "id": "a5836088",
   "metadata": {},
   "outputs": [
    {
     "data": {
      "text/plain": [
       "torch.Size([1, 594, 768])"
      ]
     },
     "execution_count": 27,
     "metadata": {},
     "output_type": "execute_result"
    }
   ],
   "source": [
    "# %timeit encodings = model.encode_spans(doc, all_spans)\n",
    "encodings = model.encode_spans(doc, all_spans)\n",
    "encodings.shape"
   ]
  },
  {
   "cell_type": "markdown",
   "id": "3e26e5f1",
   "metadata": {},
   "source": [
    "Get Prototype representation"
   ]
  },
  {
   "cell_type": "code",
   "execution_count": 14,
   "id": "8340a258",
   "metadata": {},
   "outputs": [],
   "source": [
    "model.references['Adversary:Actor'] = references"
   ]
  },
  {
   "cell_type": "code",
   "execution_count": 15,
   "id": "23e9eaaa",
   "metadata": {},
   "outputs": [
    {
     "data": {
      "text/plain": [
       "[[<src.data.Doc_Tokens at 0x227a2441388>, [(0, 1), (76, 77)]],\n",
       " [<src.data.Doc_Tokens at 0x227a248ea48>, [(2, 2), (5, 8), (31, 31)]],\n",
       " [<src.data.Doc_Tokens at 0x227a520dec8>,\n",
       "  [(12, 12), (45, 45), (89, 89), (72, 73)]]]"
      ]
     },
     "execution_count": 15,
     "metadata": {},
     "output_type": "execute_result"
    }
   ],
   "source": [
    "references"
   ]
  },
  {
   "cell_type": "code",
   "execution_count": 17,
   "id": "40e0c1d3",
   "metadata": {},
   "outputs": [],
   "source": [
    "label_strings, prototype_encodings = model.get_prototypes()"
   ]
  },
  {
   "cell_type": "markdown",
   "id": "cf1cd8a1",
   "metadata": {},
   "source": [
    "Calculate the distances\n",
    "1. The `prototype_encodings` need to be concatenated with zero vectors. The resulting shape should be (n_classes, 2, hidden_size)  \n",
    "2. `torch.cdist`"
   ]
  },
  {
   "cell_type": "code",
   "execution_count": 18,
   "id": "7a37d2e0",
   "metadata": {},
   "outputs": [
    {
     "data": {
      "text/plain": [
       "torch.Size([1, 1, 768])"
      ]
     },
     "execution_count": 18,
     "metadata": {},
     "output_type": "execute_result"
    }
   ],
   "source": [
    "prototype_encodings.shape"
   ]
  },
  {
   "cell_type": "code",
   "execution_count": 26,
   "id": "21778b5f",
   "metadata": {},
   "outputs": [
    {
     "data": {
      "text/plain": [
       "torch.Size([1, 2, 768])"
      ]
     },
     "execution_count": 26,
     "metadata": {},
     "output_type": "execute_result"
    }
   ],
   "source": [
    "prototype_encodings = torch.cat( [prototype_encodings, torch.zeros(prototype_encodings.shape)], axis=1 )\n",
    "prototype_encodings.shape"
   ]
  },
  {
   "cell_type": "code",
   "execution_count": 30,
   "id": "59e7b200",
   "metadata": {},
   "outputs": [
    {
     "data": {
      "text/plain": [
       "torch.Size([1, 594, 2])"
      ]
     },
     "execution_count": 30,
     "metadata": {},
     "output_type": "execute_result"
    }
   ],
   "source": [
    "distances = torch.cdist(encodings, prototype_encodings)\n",
    "distances.shape"
   ]
  },
  {
   "cell_type": "code",
   "execution_count": 39,
   "id": "92a60ba8",
   "metadata": {},
   "outputs": [],
   "source": [
    "prob_class = torch.nn.LogSoftmax(dim=2)(distances)"
   ]
  },
  {
   "cell_type": "code",
   "execution_count": 44,
   "id": "30d665ed",
   "metadata": {},
   "outputs": [
    {
     "data": {
      "text/plain": [
       "torch.Size([1, 594, 2])"
      ]
     },
     "execution_count": 44,
     "metadata": {},
     "output_type": "execute_result"
    }
   ],
   "source": [
    "prob_class.shape"
   ]
  },
  {
   "cell_type": "code",
   "execution_count": 63,
   "id": "e4010de7",
   "metadata": {},
   "outputs": [],
   "source": [
    "from torch import nn\n",
    ">>> loss = nn.CrossEntropyLoss()\n",
    ">>> input = torch.randn(3, 5, requires_grad=True)\n",
    ">>> target = torch.empty(3, dtype=torch.long).random_(5)\n",
    ">>> output = loss(input, target)"
   ]
  },
  {
   "cell_type": "code",
   "execution_count": 42,
   "id": "0d8292cf",
   "metadata": {},
   "outputs": [
    {
     "data": {
      "text/plain": [
       "torch.Size([3, 5])"
      ]
     },
     "execution_count": 42,
     "metadata": {},
     "output_type": "execute_result"
    }
   ],
   "source": [
    "input.shape"
   ]
  },
  {
   "cell_type": "code",
   "execution_count": 43,
   "id": "ea378269",
   "metadata": {},
   "outputs": [
    {
     "data": {
      "text/plain": [
       "torch.Size([3])"
      ]
     },
     "execution_count": 43,
     "metadata": {},
     "output_type": "execute_result"
    }
   ],
   "source": [
    "target.shape"
   ]
  },
  {
   "cell_type": "code",
   "execution_count": 59,
   "id": "c1f92d05",
   "metadata": {},
   "outputs": [],
   "source": [
    "nn.CrossEntropyLoss?"
   ]
  },
  {
   "cell_type": "code",
   "execution_count": 67,
   "id": "f7aef40a",
   "metadata": {},
   "outputs": [
    {
     "data": {
      "text/plain": [
       "torch.Size([594, 2])"
      ]
     },
     "execution_count": 67,
     "metadata": {},
     "output_type": "execute_result"
    }
   ],
   "source": [
    "prob_class.squeeze(0).shape"
   ]
  },
  {
   "cell_type": "code",
   "execution_count": 68,
   "id": "f86ce432",
   "metadata": {},
   "outputs": [
    {
     "data": {
      "text/plain": [
       "tensor(1.2614, grad_fn=<NllLossBackward>)"
      ]
     },
     "execution_count": 68,
     "metadata": {},
     "output_type": "execute_result"
    }
   ],
   "source": [
    "loss = nn.CrossEntropyLoss()\n",
    "loss(prob_class.squeeze(0), torch.LongTensor(labels))"
   ]
  },
  {
   "cell_type": "code",
   "execution_count": 57,
   "id": "9624b05d",
   "metadata": {},
   "outputs": [
    {
     "data": {
      "text/plain": [
       "tensor([[0, 0, 0, 0, 0, 0, 0, 0, 0, 0, 0, 0, 0, 0, 0, 0, 0, 0, 0, 0, 0, 0, 0, 0,\n",
       "         0, 0, 0, 0, 0, 0, 0, 0, 0, 0, 0, 0, 0, 0, 0, 0, 1, 0, 0, 0, 0, 0, 0, 0,\n",
       "         0, 0, 0, 0, 0, 0, 0, 0, 0, 0, 0, 0, 0, 0, 0, 0, 0, 0, 0, 0, 0, 0, 0, 0,\n",
       "         0, 0, 0, 0, 0, 0, 0, 0, 0, 0, 0, 0, 0, 0, 0, 0, 0, 0, 0, 0, 0, 0, 0, 0,\n",
       "         0, 0, 0, 0, 0, 0, 0, 0, 0, 0, 0, 0, 0, 0, 0, 0, 0, 0, 0, 0, 0, 0, 0, 0,\n",
       "         0, 0, 0, 0, 0, 0, 0, 0, 0, 0, 0, 0, 0, 0, 0, 0, 0, 0, 0, 0, 0, 0, 0, 0,\n",
       "         0, 0, 0, 0, 0, 0, 0, 0, 0, 1, 0, 0, 0, 0, 0, 0, 0, 0, 0, 0, 0, 0, 0, 0,\n",
       "         0, 0, 0, 0, 0, 0, 0, 0, 0, 0, 0, 0, 0, 0, 0, 0, 0, 0, 0, 0, 0, 0, 0, 0,\n",
       "         0, 0, 0, 0, 0, 0, 0, 0, 0, 0, 0, 0, 0, 0, 0, 0, 0, 0, 0, 0, 0, 0, 0, 0,\n",
       "         0, 0, 0, 0, 0, 0, 0, 0, 0, 0, 0, 0, 0, 0, 0, 0, 0, 0, 0, 0, 0, 0, 0, 0,\n",
       "         0, 0, 0, 0, 0, 0, 0, 0, 0, 0, 0, 0, 0, 0, 0, 0, 0, 0, 0, 0, 0, 0, 0, 0,\n",
       "         0, 0, 0, 0, 0, 0, 0, 0, 0, 0, 0, 0, 0, 0, 0, 0, 0, 0, 0, 0, 0, 0, 0, 0,\n",
       "         0, 0, 0, 0, 0, 0, 0, 0, 0, 0, 0, 0, 0, 0, 0, 0, 0, 0, 0, 0, 0, 0, 0, 0,\n",
       "         0, 0, 0, 0, 0, 0, 0, 0, 0, 0, 0, 0, 0, 0, 0, 0, 0, 0, 0, 0, 0, 0, 0, 0,\n",
       "         0, 0, 0, 0, 0, 0, 0, 0, 0, 0, 0, 0, 0, 0, 0, 0, 0, 0, 0, 0, 0, 0, 0, 0,\n",
       "         0, 0, 0, 0, 0, 0, 0, 0, 0, 0, 0, 0, 0, 0, 0, 0, 0, 0, 0, 0, 0, 0, 0, 0,\n",
       "         0, 0, 0, 0, 0, 0, 0, 0, 0, 0, 0, 0, 0, 0, 0, 0, 0, 0, 0, 0, 0, 0, 0, 0,\n",
       "         0, 0, 0, 0, 0, 0, 0, 0, 0, 0, 0, 0, 0, 0, 0, 0, 0, 0, 0, 0, 0, 0, 0, 0,\n",
       "         0, 0, 0, 0, 0, 0, 0, 0, 0, 0, 0, 0, 1, 0, 0, 0, 0, 0, 0, 0, 0, 0, 0, 0,\n",
       "         0, 0, 0, 0, 0, 0, 0, 0, 0, 0, 0, 0, 0, 0, 0, 0, 0, 0, 0, 0, 0, 0, 0, 0,\n",
       "         0, 0, 0, 0, 0, 0, 0, 0, 0, 0, 0, 0, 0, 0, 0, 0, 0, 0, 0, 0, 0, 0, 0, 0,\n",
       "         0, 0, 0, 0, 0, 0, 0, 0, 0, 0, 0, 0, 0, 0, 0, 0, 0, 0, 0, 0, 0, 0, 0, 0,\n",
       "         0, 0, 0, 0, 0, 0, 0, 0, 0, 0, 0, 0, 0, 0, 0, 0, 0, 0, 0, 0, 0, 0, 0, 0,\n",
       "         0, 1, 0, 0, 0, 0, 0, 0, 0, 0, 0, 0, 0, 0, 0, 0, 0, 0, 0, 0, 0, 0, 0, 0,\n",
       "         0, 0, 0, 0, 0, 0, 0, 0, 0, 0, 0, 0, 0, 0, 0, 0, 0, 0]])"
      ]
     },
     "execution_count": 57,
     "metadata": {},
     "output_type": "execute_result"
    }
   ],
   "source": [
    "torch.LongTensor(labels).unsqueeze(dim=0)"
   ]
  },
  {
   "cell_type": "markdown",
   "id": "0d0bedb4",
   "metadata": {},
   "source": [
    "### Forward function"
   ]
  },
  {
   "cell_type": "code",
   "execution_count": null,
   "id": "005d7993",
   "metadata": {},
   "outputs": [],
   "source": [
    "def forward(doc, max_span_width=4):\n",
    "    all_spans = enumerate_spans(doc.doc, max_span_width=max_span_width)\n",
    "    encodings = model.encode_spans(doc, all_spans)\n",
    "    \n",
    "    support_encodings = torch.cat( [self.prototype_encodings, torch.zeros(self.prototype_encodings.shape)], axis=1 )\n",
    "    distances = torch.cdist(encodings, support_encodings)\n",
    "    prob_class = torch.nn.LogSoftmax(dim=2)(distances)\n",
    "    \n",
    "    return prob_class\n",
    "    "
   ]
  },
  {
   "cell_type": "code",
   "execution_count": null,
   "id": "e3572bb5",
   "metadata": {},
   "outputs": [],
   "source": []
  }
 ],
 "metadata": {
  "kernelspec": {
   "display_name": "Python 3",
   "language": "python",
   "name": "python3"
  },
  "language_info": {
   "codemirror_mode": {
    "name": "ipython",
    "version": 3
   },
   "file_extension": ".py",
   "mimetype": "text/x-python",
   "name": "python",
   "nbconvert_exporter": "python",
   "pygments_lexer": "ipython3",
   "version": "3.7.4"
  }
 },
 "nbformat": 4,
 "nbformat_minor": 5
}
