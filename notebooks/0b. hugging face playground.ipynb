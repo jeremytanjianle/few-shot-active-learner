{
 "cells": [
  {
   "cell_type": "code",
   "execution_count": 38,
   "id": "06ea7c2a",
   "metadata": {},
   "outputs": [],
   "source": [
    "import torch\n",
    "from transformers import AutoTokenizer, AutoModel, AutoConfig\n",
    "\n",
    "# Initialize the tokenizer\n",
    "# tokenizer = AutoTokenizer.from_pretrained(\"allenai/longformer-base-4096\", do_lower_case=False)\n",
    "# tokenizer = AutoTokenizer.from_pretrained(\"albert-base-v2\")\n",
    "tokenizer = AutoTokenizer.from_pretrained(\"bert-base-cased\", use_fast = False)\n",
    "# model = AutoModel.from_pretrained(\"bert-large-cased\", output_hidden_states=True)"
   ]
  },
  {
   "cell_type": "code",
   "execution_count": 37,
   "id": "13af5631",
   "metadata": {},
   "outputs": [],
   "source": [
    "AutoTokenizer.from_pretrained?"
   ]
  },
  {
   "cell_type": "code",
   "execution_count": 2,
   "id": "8dce1040",
   "metadata": {},
   "outputs": [
    {
     "data": {
      "text/plain": [
       "[]"
      ]
     },
     "execution_count": 2,
     "metadata": {},
     "output_type": "execute_result"
    }
   ],
   "source": [
    "tokenizer.tokenize('\\u00a0')"
   ]
  },
  {
   "cell_type": "code",
   "execution_count": 3,
   "id": "ad8574e6",
   "metadata": {},
   "outputs": [
    {
     "data": {
      "text/plain": [
       "[]"
      ]
     },
     "execution_count": 3,
     "metadata": {},
     "output_type": "execute_result"
    }
   ],
   "source": [
    "tokenizer.tokenize(' ')"
   ]
  },
  {
   "cell_type": "code",
   "execution_count": 40,
   "id": "42fb60cf",
   "metadata": {},
   "outputs": [
    {
     "data": {
      "text/plain": [
       "['Real',\n",
       " 'estate',\n",
       " 'Trans',\n",
       " '##actions',\n",
       " 'are',\n",
       " 'some',\n",
       " 'of',\n",
       " 'the',\n",
       " 'higher',\n",
       " 'value',\n",
       " 'transactions',\n",
       " 'performed',\n",
       " 'by',\n",
       " 'individuals',\n",
       " 'and',\n",
       " 'organizations',\n",
       " '.']"
      ]
     },
     "execution_count": 40,
     "metadata": {},
     "output_type": "execute_result"
    }
   ],
   "source": [
    "tokenizer.tokenize(\"Real estate Transactions are some of the higher value transactions\\u00a0performed by individuals and organizations. \")"
   ]
  },
  {
   "cell_type": "markdown",
   "id": "7a0b615c",
   "metadata": {},
   "source": [
    "### New `transformers` does not `encode` as expected\n",
    "#### The trick is to use `use_fast=False`"
   ]
  },
  {
   "cell_type": "markdown",
   "id": "246067f6",
   "metadata": {},
   "source": [
    "```\n",
    "tokenizer = AutoTokenizer.from_pretrained(\"bert-base-cased\")\n",
    "tokenizer.tokenize(\"Real estate Transactions\")\n",
    "# ['Real', 'estate', 'Trans', '##actions']\n",
    "tokenizer.encode(['Real', 'estate', 'Trans', '##actions'] , add_special_tokens=True)\n",
    "# [101, 5230, 3327, 13809, 22946, 102] \n",
    "# tokenizer.decode(101) == '[ C L S ]'\n",
    "# tokenizer.decode(102) == [ S E P ]'\n",
    "```"
   ]
  },
  {
   "cell_type": "code",
   "execution_count": 15,
   "id": "13681444",
   "metadata": {},
   "outputs": [
    {
     "data": {
      "text/plain": [
       "{'input_ids': [[101, 5230, 3327, 102], [101, 13809, 102], [101, 108, 108, 3721, 102]], 'token_type_ids': [[0, 0, 0, 0], [0, 0, 0], [0, 0, 0, 0, 0]], 'attention_mask': [[1, 1, 1, 1], [1, 1, 1], [1, 1, 1, 1, 1]]}"
      ]
     },
     "execution_count": 15,
     "metadata": {},
     "output_type": "execute_result"
    }
   ],
   "source": [
    "tokenizer(['Real estate', 'Trans', '##actions'])"
   ]
  },
  {
   "cell_type": "code",
   "execution_count": 22,
   "id": "e31dfd2a",
   "metadata": {},
   "outputs": [
    {
     "data": {
      "text/plain": [
       "[101, 5230, 3327, 102]"
      ]
     },
     "execution_count": 22,
     "metadata": {},
     "output_type": "execute_result"
    }
   ],
   "source": [
    "tokenizer.encode(\"Real estate\")"
   ]
  },
  {
   "cell_type": "code",
   "execution_count": 41,
   "id": "c1f6e254",
   "metadata": {},
   "outputs": [
    {
     "name": "stdout",
     "output_type": "stream",
     "text": [
      "[5230, 3327, 13809, 22946]\n"
     ]
    },
    {
     "data": {
      "text/plain": [
       "[101, 5230, 3327, 13809, 22946, 102]"
      ]
     },
     "execution_count": 41,
     "metadata": {},
     "output_type": "execute_result"
    }
   ],
   "source": [
    "from transformers import AutoTokenizer\n",
    "# tokenizer = AutoTokenizer.from_pretrained(\"bert-base-cased\")\n",
    "tokenizer.tokenize(\"Real estate Transactions\")\n",
    "# ['Real', 'estate', 'Trans', '##actions']\n",
    "token_ids = tokenizer.convert_tokens_to_ids(['Real', 'estate', 'Trans', '##actions'])\n",
    "print(token_ids)\n",
    "tokenizer.encode(['Real', 'estate', 'Trans', '##actions'] , add_special_tokens=True)\n",
    "# [101, 5230, 3327, 13809, 22946, 102] \n",
    "# tokenizer.decode(101) == '[ C L S ]'\n",
    "# tokenizer.decode(102) == [ S E P ]'"
   ]
  },
  {
   "cell_type": "markdown",
   "id": "d0b6ebc4",
   "metadata": {},
   "source": [
    "### Is the output of `4.5.1 longformer` the same as `2.6.0 bert`?\n",
    "#### The output shape seems different"
   ]
  },
  {
   "cell_type": "code",
   "execution_count": 100,
   "id": "d793c51b",
   "metadata": {},
   "outputs": [
    {
     "data": {
      "text/plain": [
       "LongformerConfig {\n",
       "  \"attention_mode\": \"longformer\",\n",
       "  \"attention_probs_dropout_prob\": 0.1,\n",
       "  \"attention_window\": [\n",
       "    512,\n",
       "    512,\n",
       "    512,\n",
       "    512,\n",
       "    512,\n",
       "    512,\n",
       "    512,\n",
       "    512,\n",
       "    512,\n",
       "    512,\n",
       "    512,\n",
       "    512\n",
       "  ],\n",
       "  \"bos_token_id\": 0,\n",
       "  \"eos_token_id\": 2,\n",
       "  \"gradient_checkpointing\": false,\n",
       "  \"hidden_act\": \"gelu\",\n",
       "  \"hidden_dropout_prob\": 0.1,\n",
       "  \"hidden_size\": 768,\n",
       "  \"ignore_attention_mask\": false,\n",
       "  \"initializer_range\": 0.02,\n",
       "  \"intermediate_size\": 3072,\n",
       "  \"layer_norm_eps\": 1e-05,\n",
       "  \"max_position_embeddings\": 4098,\n",
       "  \"model_type\": \"longformer\",\n",
       "  \"num_attention_heads\": 12,\n",
       "  \"num_hidden_layers\": 12,\n",
       "  \"pad_token_id\": 1,\n",
       "  \"position_embedding_type\": \"absolute\",\n",
       "  \"sep_token_id\": 2,\n",
       "  \"transformers_version\": \"4.5.1\",\n",
       "  \"type_vocab_size\": 1,\n",
       "  \"use_cache\": true,\n",
       "  \"vocab_size\": 50265\n",
       "}"
      ]
     },
     "execution_count": 100,
     "metadata": {},
     "output_type": "execute_result"
    }
   ],
   "source": [
    "config = AutoConfig.from_pretrained(\"allenai/longformer-base-4096\")\n",
    "config"
   ]
  },
  {
   "cell_type": "code",
   "execution_count": 93,
   "id": "015c800e",
   "metadata": {},
   "outputs": [],
   "source": [
    "tokenizer = AutoTokenizer.from_pretrained(\"allenai/longformer-base-4096\")\n",
    "config = AutoConfig.from_pretrained(\"allenai/longformer-base-4096\")\n",
    "config.attention_window = [1024 for _ in config.attention_window]\n",
    "config.output_hidden_states = True\n",
    "model = AutoModel.from_pretrained(\"allenai/longformer-base-4096\", config=config)"
   ]
  },
  {
   "cell_type": "code",
   "execution_count": 94,
   "id": "ae929d71",
   "metadata": {},
   "outputs": [
    {
     "data": {
      "text/plain": [
       "{'input_ids': tensor([[    0, 17105,  2587,  5538,     2]]), 'attention_mask': tensor([[1, 1, 1, 1, 1]])}"
      ]
     },
     "execution_count": 94,
     "metadata": {},
     "output_type": "execute_result"
    }
   ],
   "source": [
    "tokenized = tokenizer(\"Real estate transactions\", return_tensors=\"pt\")\n",
    "tokenized"
   ]
  },
  {
   "cell_type": "code",
   "execution_count": 95,
   "id": "27b4e667",
   "metadata": {},
   "outputs": [],
   "source": [
    "encodings = model(**tokenized)"
   ]
  },
  {
   "cell_type": "code",
   "execution_count": 96,
   "id": "f40cd081",
   "metadata": {},
   "outputs": [
    {
     "data": {
      "text/plain": [
       "torch.Size([1, 5, 768])"
      ]
     },
     "execution_count": 96,
     "metadata": {},
     "output_type": "execute_result"
    }
   ],
   "source": [
    "encodings[0].shape"
   ]
  },
  {
   "cell_type": "code",
   "execution_count": 97,
   "id": "e2fb2421",
   "metadata": {},
   "outputs": [
    {
     "data": {
      "text/plain": [
       "torch.Size([1, 768])"
      ]
     },
     "execution_count": 97,
     "metadata": {},
     "output_type": "execute_result"
    }
   ],
   "source": [
    "encodings[1].shape"
   ]
  },
  {
   "cell_type": "code",
   "execution_count": 98,
   "id": "ae10cddb",
   "metadata": {},
   "outputs": [
    {
     "data": {
      "text/plain": [
       "torch.Size([1, 1024, 768])"
      ]
     },
     "execution_count": 98,
     "metadata": {},
     "output_type": "execute_result"
    }
   ],
   "source": [
    "encodings[2][0].shape"
   ]
  },
  {
   "cell_type": "code",
   "execution_count": 72,
   "id": "11dce53a",
   "metadata": {},
   "outputs": [],
   "source": [
    "# SAMPLE_TEXT = ' '.join(['Hello world! '] * 1000)  # long input document\n",
    "\n",
    "# input_ids = torch.tensor(tokenizer.encode(SAMPLE_TEXT)).unsqueeze(0)  # batch of size 1\n",
    "\n",
    "# attention_mask = torch.ones(input_ids.shape, dtype=torch.long, device=input_ids.device) # initialize to local attention\n",
    "# attention_mask[:, [1, 4, 21,]] =  2  # Set global attention based on the task. For example,\n",
    "#                                      # classification: the <s> token\n",
    "#                                      # QA: question tokens\n",
    "\n",
    "# # padding seqlen to the nearest multiple of 512. Needed for the 'sliding_chunks' attention\n",
    "# input_ids, attention_mask = pad_to_window_size(\n",
    "#         input_ids, attention_mask, config.attention_window[0], tokenizer.pad_token_id)\n",
    "\n",
    "# output = model(input_ids, attention_mask=attention_mask)[0]"
   ]
  },
  {
   "cell_type": "code",
   "execution_count": null,
   "id": "13a934a8",
   "metadata": {},
   "outputs": [],
   "source": []
  },
  {
   "cell_type": "code",
   "execution_count": null,
   "id": "8ead46c3",
   "metadata": {},
   "outputs": [],
   "source": []
  },
  {
   "cell_type": "code",
   "execution_count": null,
   "id": "1c17bf84",
   "metadata": {},
   "outputs": [],
   "source": []
  },
  {
   "cell_type": "code",
   "execution_count": 9,
   "id": "7511e029",
   "metadata": {},
   "outputs": [
    {
     "data": {
      "text/plain": [
       "'[ S E P ]'"
      ]
     },
     "execution_count": 9,
     "metadata": {},
     "output_type": "execute_result"
    }
   ],
   "source": [
    "tokenizer.decode(102)"
   ]
  },
  {
   "cell_type": "code",
   "execution_count": 36,
   "id": "4b9e1cfe",
   "metadata": {},
   "outputs": [],
   "source": [
    "tokenizer.encode?"
   ]
  },
  {
   "cell_type": "code",
   "execution_count": 29,
   "id": "3b92f777",
   "metadata": {},
   "outputs": [
    {
     "data": {
      "text/plain": [
       "[0, 649, 21402, 19163, 28929, 2, 2, 649, 21402, 2]"
      ]
     },
     "execution_count": 29,
     "metadata": {},
     "output_type": "execute_result"
    }
   ],
   "source": [
    "tokenizer.encode(('ĠTransactions', 'Ġ') )"
   ]
  },
  {
   "cell_type": "code",
   "execution_count": 35,
   "id": "ba6df938",
   "metadata": {},
   "outputs": [
    {
     "data": {
      "text/plain": [
       "'<s>'"
      ]
     },
     "execution_count": 35,
     "metadata": {},
     "output_type": "execute_result"
    }
   ],
   "source": [
    "tokenizer.decode(0)"
   ]
  },
  {
   "cell_type": "code",
   "execution_count": 25,
   "id": "83818224",
   "metadata": {},
   "outputs": [],
   "source": [
    "tokenizer.encode?"
   ]
  },
  {
   "cell_type": "code",
   "execution_count": 20,
   "id": "b23123c3",
   "metadata": {},
   "outputs": [
    {
     "data": {
      "text/plain": [
       "[[0, 25800, 20760, 89, 524, 20524, 811, 281, 2]]"
      ]
     },
     "execution_count": 20,
     "metadata": {},
     "output_type": "execute_result"
    }
   ],
   "source": [
    "tokenizer(['why hello there amazonianas']).input_ids"
   ]
  },
  {
   "cell_type": "code",
   "execution_count": 37,
   "id": "a7256c9c",
   "metadata": {},
   "outputs": [],
   "source": [
    "all_bert_outputs = model(tokenizer(['why hello there amazonianas, amazonianas'], return_tensors=\"pt\").input_ids)"
   ]
  },
  {
   "cell_type": "code",
   "execution_count": 27,
   "id": "d1ae2b2b",
   "metadata": {},
   "outputs": [
    {
     "data": {
      "text/plain": [
       "3"
      ]
     },
     "execution_count": 27,
     "metadata": {},
     "output_type": "execute_result"
    }
   ],
   "source": [
    "len(all_bert_outputs)"
   ]
  },
  {
   "cell_type": "code",
   "execution_count": 38,
   "id": "1cd0ace0",
   "metadata": {},
   "outputs": [
    {
     "data": {
      "text/plain": [
       "torch.Size([1, 14, 768])"
      ]
     },
     "execution_count": 38,
     "metadata": {},
     "output_type": "execute_result"
    }
   ],
   "source": [
    "all_bert_outputs[0].shape"
   ]
  },
  {
   "cell_type": "code",
   "execution_count": 39,
   "id": "41761379",
   "metadata": {},
   "outputs": [
    {
     "data": {
      "text/plain": [
       "torch.Size([1, 512, 768])"
      ]
     },
     "execution_count": 39,
     "metadata": {},
     "output_type": "execute_result"
    }
   ],
   "source": [
    "all_bert_outputs[2][-1].shape"
   ]
  },
  {
   "cell_type": "code",
   "execution_count": 24,
   "id": "82840d35",
   "metadata": {},
   "outputs": [],
   "source": [
    "model.forward?"
   ]
  },
  {
   "cell_type": "code",
   "execution_count": null,
   "id": "83b06bf5",
   "metadata": {},
   "outputs": [],
   "source": []
  }
 ],
 "metadata": {
  "kernelspec": {
   "display_name": "Python 3",
   "language": "python",
   "name": "python3"
  },
  "language_info": {
   "codemirror_mode": {
    "name": "ipython",
    "version": 3
   },
   "file_extension": ".py",
   "mimetype": "text/x-python",
   "name": "python",
   "nbconvert_exporter": "python",
   "pygments_lexer": "ipython3",
   "version": "3.7.4"
  }
 },
 "nbformat": 4,
 "nbformat_minor": 5
}
